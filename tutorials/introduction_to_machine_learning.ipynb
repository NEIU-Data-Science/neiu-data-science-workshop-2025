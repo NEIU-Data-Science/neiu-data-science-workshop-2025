{
 "cells": [
  {
   "cell_type": "markdown",
   "metadata": {
    "colab_type": "text",
    "id": "c8HypsNOp2q1"
   },
   "source": [
    "# Introduction to Machine Learning\n",
    "Adapted from https://github.com/TomaszGolan/introduction_to_machine_learning/blob/master/docs/notebooks/introduction_to_machine_learning_00_intro.ipynb"
   ]
  },
  {
   "cell_type": "markdown",
   "metadata": {
    "colab_type": "text",
    "id": "aXrbRuKeBgBT"
   },
   "source": [
    "## Overview\n",
    "\n",
    "* Introduction\n",
    "\n",
    "* k-Nearest Neighbors\n",
    "\n",
    "* Decision Tree\n",
    "\n",
    "* Support Vector Machine\n",
    "\n",
    "* Multilayer Perceptron\n",
    "\n",
    "* Deep Learning"
   ]
  },
  {
   "cell_type": "markdown",
   "metadata": {
    "colab_type": "text",
    "id": "ES-Ahfg9BiOz"
   },
   "source": [
    "### Recommended prerequisite knowledge\n",
    "\n",
    "* Linear algebra\n",
    "\n",
    "* Calculus\n",
    "\n",
    "* Python"
   ]
  },
  {
   "cell_type": "code",
   "execution_count": 2,
   "metadata": {
    "colab": {
     "autoexec": {
      "startup": false,
      "wait_interval": 0
     }
    },
    "colab_type": "code",
    "id": "LUvkVxI8ExSm"
   },
   "outputs": [],
   "source": [
    "# numpy and matplotlib will be used a lot during the lecture\n",
    "# if you are familiar with these libraries you may skip this part\n",
    "# if not - extended comments were added to make it easier to understand\n",
    "\n",
    "# it is kind of standard to import numpy as np and pyplot as plt\n",
    "import numpy as np\n",
    "import matplotlib.pyplot as plt\n",
    "\n",
    "# used later to apply different colors in for loops\n",
    "mpl_colors = ('r', 'b', 'g', 'c', 'm', 'y', 'k', 'w')\n",
    "\n",
    "# just to overwrite default colab style\n",
    "plt.style.use('default')\n",
    "\n",
    "\n",
    "def generate_random_points(size=10, low=0, high=1):\n",
    "  \"\"\"Generate a set of random 2D points\n",
    "  \n",
    "  size -- number of points to generate\n",
    "  low  -- min value\n",
    "  high -- max value\n",
    "  \"\"\"\n",
    "  # random_sample([size]) returns random numbers with shape defined by size\n",
    "  # e.g.\n",
    "  # >>> np.random.random_sample((2, 3))\n",
    "  #\n",
    "  # array([[ 0.44013807,  0.77358569,  0.64338619],\n",
    "  #        [ 0.54363868,  0.31855232,  0.16791031]])\n",
    "  #\n",
    "  return (high - low) * np.random.random_sample((size, 2)) + low\n",
    "\n",
    "\n",
    "def init_plot(x_range=None, y_range=None, x_label=\"$x_1$\", y_label=\"$x_2$\"):\n",
    "  \"\"\"Set axes limits and labels\n",
    "  \n",
    "  x_range -- [min x, max x]\n",
    "  y_range -- [min y, max y]\n",
    "  x_label -- string\n",
    "  y_label -- string\n",
    "  \"\"\"\n",
    " \n",
    "  # subplots returns figure and axes\n",
    "  # (in general you may want many axes on one figure)\n",
    "  # we do not need fig here\n",
    "  # but we will apply changes (including adding points) to axes\n",
    "  _, ax = plt.subplots(dpi=70)\n",
    "  \n",
    "  # set grid style and color\n",
    "  ax.grid(c='0.70', linestyle=':')\n",
    "  \n",
    "  # set axes limits (x_range and y_range is a list with two elements)\n",
    "  ax.set_xlim(x_range) \n",
    "  ax.set_ylim(y_range)\n",
    "    \n",
    "  # set axes labels\n",
    "  ax.set_xlabel(x_label)\n",
    "  ax.set_ylabel(y_label)\n",
    "  \n",
    "  # return axes so we can continue modyfing them later\n",
    "  return ax\n",
    "\n",
    "\n",
    "def plot_random_points(style=None, color=None):\n",
    "  \"\"\"Generate and plot two (separated) sets of random points\n",
    "  \n",
    "  style -- latter group points style (default as first)\n",
    "  color -- latter group color (default as first)\n",
    "  \"\"\"\n",
    "  \n",
    "  # create a plot with x and y ranges from 0 to 2.5\n",
    "  ax = init_plot([0, 2.5], [0, 2.5])\n",
    "\n",
    "  # add two different sets of random points\n",
    "  # first set = 5 points from [0.5, 1.0]x[0.5, 1.0]\n",
    "  # second set = 5 points from [1.5, 2.0]x[1.5, 2.0]\n",
    "  # generate_random_points return a numpy array in the format like\n",
    "  # [[x1, y1], [x2, y2], ..., [xn, yn]]\n",
    "  # pyplot.plt take separately arrays with X and Y, like\n",
    "  # plot([x1, x2, x3], [y1, y2, y3])\n",
    "  # thus, we transpose numpy array to the format\n",
    "  # [[x1, x2, ..., xn], [y1, y2, ..., yn]]\n",
    "  # and unpack it with *\n",
    "  ax.plot(*generate_random_points(5, 0.5, 1.0).T, 'ro')\n",
    "  ax.plot(*generate_random_points(5, 1.5, 2.0).T, style or 'ro')\n",
    "  \n",
    "  return ax\n",
    "\n",
    "\n",
    "def plot_an_example(style=None, color=None, label=\"Class\"):\n",
    "  \"\"\"Plot an example of supervised or unsupervised learning\"\"\"\n",
    "  ax = plot_random_points(style, color)\n",
    "\n",
    "  # circle areas related to each set of points\n",
    "  # pyplot.Circle((x, y), r); (x, y) - the center of a circle; r - radius\n",
    "  # lw - line width\n",
    "  ax.add_artist(plt.Circle((0.75, 0.75), 0.5, fill=0, color='r', lw=2))\n",
    "  ax.add_artist(plt.Circle((1.75, 1.75), 0.5, fill=0, color=color or 'r', lw=2))\n",
    "\n",
    "  # put group labels\n",
    "  # pyplot.text just put arbitrary text in given coordinates\n",
    "  ax.text(0.65, 1.4, label + \" I\", fontdict={'color': 'r'})\n",
    "  ax.text(1.65, 1.1, label + \" II\", fontdict={'color': color or 'r'})"
   ]
  },
  {
   "cell_type": "markdown",
   "metadata": {
    "colab_type": "text",
    "id": "6p8Z0FBr8y_n"
   },
   "source": [
    "## Introduction"
   ]
  },
  {
   "cell_type": "markdown",
   "metadata": {
    "colab_type": "text",
    "id": "7kUBEZxobuWw"
   },
   "source": [
    "### What is machine learning?"
   ]
  },
  {
   "cell_type": "markdown",
   "metadata": {
    "colab_type": "text",
    "id": "Bgx4_Q0c82Sg"
   },
   "source": [
    "```\n",
    "+-------------------------------------------------------------------------+\n",
    "|                                                                         |\n",
    "|  Any technique which enables                                            |\n",
    "|  computers to mimic human                      Artificial Intelligence  |\n",
    "|  intelligence                                                           |\n",
    "|                                                                         |\n",
    "|     +-------------------------------------------------------------------+\n",
    "|     |                                                                   |\n",
    "|     |   Statistical techniques which                                    |\n",
    "|     |   enable computers to improve               Machine Learning      |\n",
    "|     |   with experience (subset of AI)                                  |\n",
    "|     |                                                                   |\n",
    "|     |       +-----------------------------------------------------------+\n",
    "|     |       |                                                           |\n",
    "|     |       |  Subset of ML which makes                                 |\n",
    "|     |       |  the computations using              Deep Learning        |\n",
    "|     |       |  multi-layer neural networks                              |\n",
    "|     |       |                                                           |\n",
    "+-----+-------+-----------------------------------------------------------+\n",
    "```"
   ]
  },
  {
   "cell_type": "markdown",
   "metadata": {
    "colab_type": "text",
    "id": "sDqzNzbWby9i"
   },
   "source": [
    "### Supervised learning"
   ]
  },
  {
   "cell_type": "markdown",
   "metadata": {
    "colab_type": "text",
    "id": "x_BYl91Nb23r"
   },
   "source": [
    "* Problems: classification, regression\n",
    "\n",
    "* Let $\\vec x_i \\in X$ be feature vectors\n",
    "\n",
    "* Let $y_i \\in Y$ be class labels\n",
    "\n",
    "* Let $h: X \\rightarrow Y$ be hypothesis\n",
    "\n",
    "* Find $h(\\vec x)$ given $N$ training examples $\\left\\{(\\vec x_1, y_1), ..., (\\vec x_N, y_N)\\right\\}$"
   ]
  },
  {
   "cell_type": "code",
   "execution_count": 3,
   "metadata": {
    "colab": {
     "autoexec": {
      "startup": false,
      "wait_interval": 0
     },
     "base_uri": "https://localhost:8080/",
     "height": 464,
     "output_extras": [
      {
       "item_id": 1
      }
     ]
    },
    "colab_type": "code",
    "executionInfo": {
     "elapsed": 996,
     "status": "ok",
     "timestamp": 1518154534520,
     "user": {
      "displayName": "Tomasz Golan",
      "photoUrl": "https://lh3.googleusercontent.com/a/default-user=s128",
      "userId": "115905663164825068851"
     },
     "user_tz": -60
    },
    "id": "vToWsh0u4415",
    "outputId": "aae7af59-1471-415b-c972-611772e6055f"
   },
   "outputs": [
    {
     "data": {
      "image/png": "[encoded data removed]",
      "text/plain": [
       "<Figure size 448x336 with 1 Axes>"
      ]
     },
     "metadata": {},
     "output_type": "display_data"
    }
   ],
   "source": [
    "plot_an_example(style='bs', color='b');"
   ]
  },
  {
   "cell_type": "markdown",
   "metadata": {
    "colab_type": "text",
    "id": "_xoOJ8lNNqnY"
   },
   "source": [
    "### Unsupervised learning"
   ]
  },
  {
   "cell_type": "markdown",
   "metadata": {
    "colab_type": "text",
    "id": "rvfKG94FNtPX"
   },
   "source": [
    "* In opposite to supervised learning data is not labeled\n",
    "\n",
    "* Problems: clustering, association\n",
    "\n",
    "* For example: k-means clustering, self-organizing maps"
   ]
  },
  {
   "cell_type": "code",
   "execution_count": 4,
   "metadata": {
    "colab": {
     "autoexec": {
      "startup": false,
      "wait_interval": 0
     },
     "base_uri": "https://localhost:8080/",
     "height": 464,
     "output_extras": [
      {
       "item_id": 1
      }
     ]
    },
    "colab_type": "code",
    "executionInfo": {
     "elapsed": 940,
     "status": "ok",
     "timestamp": 1518154539397,
     "user": {
      "displayName": "Tomasz Golan",
      "photoUrl": "https://lh3.googleusercontent.com/a/default-user=s128",
      "userId": "115905663164825068851"
     },
     "user_tz": -60
    },
    "id": "FX-n4fmZUKj4",
    "outputId": "f568917a-051b-4b88-ac58-aaddf6c0a5d0"
   },
   "outputs": [
    {
     "data": {
      "image/png": "[encoded data removed]",
      "text/plain": [
       "<Figure size 448x336 with 1 Axes>"
      ]
     },
     "metadata": {},
     "output_type": "display_data"
    }
   ],
   "source": [
    "plot_an_example(label=\"Cluster\");"
   ]
  },
  {
   "cell_type": "markdown",
   "metadata": {
    "colab_type": "text",
    "id": "bZmwNS9bd-0C"
   },
   "source": [
    "### Example: Supervised vs Unsupervised"
   ]
  },
  {
   "cell_type": "markdown",
   "metadata": {
    "colab_type": "text",
    "id": "O3ZrlJwpeBMP"
   },
   "source": [
    "* Having $N$ photos of different animals\n",
    "\n",
    "* Supervised task (requires labeled data)\n",
    "\n",
    "> Train an algorithm to recognise given species on a photo.\n",
    "\n",
    "> Output: There is X on a photo.\n",
    "\n",
    "* Unsupervised task\n",
    "\n",
    "> Train an algorithm to group animals with similar features.\n",
    "\n",
    "> Output: No idea what it is, but it looks similar to these animals."
   ]
  },
  {
   "cell_type": "markdown",
   "metadata": {
    "colab_type": "text",
    "id": "UApr0pVcflxU"
   },
   "source": [
    "### Reinforcement learning"
   ]
  },
  {
   "cell_type": "markdown",
   "metadata": {
    "colab_type": "text",
    "id": "HXbmRKTiftPv"
   },
   "source": [
    "```\n",
    "                +---------+\n",
    "                |         |\n",
    "       +--------+  AGENT  | <------+\n",
    "       |        |         |        |\n",
    "       |        +---------+        |\n",
    "       |                           | Observation\n",
    "Action |                           |\n",
    "       |                           | Reward\n",
    "       |     +---------------+     |\n",
    "       |     |               |     |\n",
    "       +---> |  ENVIRONMENT  +-----+\n",
    "             |               |\n",
    "             +---------------+\n",
    "```"
   ]
  },
  {
   "cell_type": "markdown",
   "metadata": {
    "colab_type": "text",
    "id": "2XcrgUogJWZf"
   },
   "source": [
    "### ML applications"
   ]
  },
  {
   "cell_type": "markdown",
   "metadata": {
    "colab_type": "text",
    "id": "PlEwhcJ9JeL7"
   },
   "source": [
    "* Image recognition\n",
    "\n",
    "    * [Google Maps](https://maps.google.com) - finding licence plates and faces; extracting street names and building numbers\n",
    "\n",
    "    * [Facebook](https://facebook.com) - recognising similar faces\n",
    "  \n",
    "* Speech recognition\n",
    "\n",
    "    * [Microsoft](https://microsoft.com) - Cortana\n",
    "    \n",
    "    * [Apple](https://apple.com) - Siri\n",
    "  \n",
    "* Natural Language Processing\n",
    "\n",
    "    * [Google Translate](https://translate.google.pl/) - machine translation\n",
    "    \n",
    "    * [Next Game of Thrones Book](https://blog.udacity.com/2017/08/neural-network-game-of-thrones.html) - language modeling\n",
    "  \n",
    "* Misc\n",
    "\n",
    "    * [PayPal](https://paypal.com/) - fraud alert\n",
    "\n",
    "    * [Netflix](https://netflix.com), [Amazon](https://amazon.com) - recommendation system\n",
    "\n",
    "    * [Art](https://www.boredpanda.com/computer-deep-learning-algorithm-painting-masters/)\n",
    "\n",
    "    ![art](https://static.boredpanda.com/blog/wp-content/uploads/2015/08/computer-deep-learning-algorithm-painting-masters-12.jpg)\n",
    "\n",
    "    * [AlphaGo](https://deepmind.com/research/alphago/)"
   ]
  },
  {
   "cell_type": "markdown",
   "metadata": {
    "colab_type": "text",
    "id": "tBnWIy-DjF0-"
   },
   "source": [
    "### ML Fails"
   ]
  },
  {
   "cell_type": "markdown",
   "metadata": {
    "colab_type": "text",
    "id": "lNdtW1S5jHYR"
   },
   "source": [
    "* Amazon's Alexa - TV broadcast caused many orders around San Diego when presenter said *I love the little girl, saying 'Alexa ordered me a dollhouse'.*\n",
    "\n",
    "* Amazon's Alexa - when a kid asked for his favorite song *Digger, Digger* Alexa's respond was: *You want to hear a station for porn detected … hot chick amateur girl sexy.*\n",
    "\n",
    "* Microsoft's Tay chatbot learned from tweets how to be racist\n",
    "\n",
    "![tay](https://d.ibtimes.co.uk/en/full/1502271/tay-tweets.jpg)\n",
    "\n",
    "* Passport checker rejects Asian's photo because *eyes are closed*\n",
    "\n",
    "![asian](https://assets.entrepreneur.com/slideshow/20170223234052-s3reutersmedia.jpeg)\n",
    "\n",
    "* So make sure you can not relate to this\n",
    "\n",
    "![ml](https://www.kdnuggets.com/images/cartoon-machine-learning-what-they-think.jpg)"
   ]
  },
  {
   "cell_type": "markdown",
   "metadata": {
    "colab_type": "text",
    "id": "vx3FhQp1oK-C"
   },
   "source": [
    "### ML Frameworks"
   ]
  },
  {
   "cell_type": "markdown",
   "metadata": {
    "colab_type": "text",
    "id": "LcFOTFAhoO-8"
   },
   "source": [
    "* [Tensorflow](https://www.tensorflow.org/) by Google - Python (and somewhat in C/C++)\n",
    "\n",
    "* [Caffe](http://caffe.berkeleyvision.org/) by Berkeley Vision and Learning Center - C/C++, Python, MATLAB, Command line interface\n",
    "\n",
    "* [Torch](http://torch.ch/) by many - Lua and C/C++\n",
    "\n",
    "* [Theano](http://deeplearning.net/software/theano/) by University of Montreal - Python (development stopped in 2017)\n",
    "\n",
    "* [scikit-learn](http://scikit-learn.org) by many - Python\n",
    "\n",
    "* and many others"
   ]
  }
 ],
 "metadata": {
  "colab": {
   "collapsed_sections": [
    "aXrbRuKeBgBT",
    "cF3hLaf1CG8R",
    "ES-Ahfg9BiOz",
    "k3hO1s2eCULa"
   ],
   "default_view": {},
   "name": "introduction_to_machine_learning_00_intro.ipynb",
   "provenance": [],
   "toc_visible": true,
   "version": "0.3.2",
   "views": {}
  },
  "kernelspec": {
   "display_name": "Python 3 (ipykernel)",
   "language": "python",
   "name": "python3"
  },
  "language_info": {
   "codemirror_mode": {
    "name": "ipython",
    "version": 3
   },
   "file_extension": ".py",
   "mimetype": "text/x-python",
   "name": "python",
   "nbconvert_exporter": "python",
   "pygments_lexer": "ipython3",
   "version": "3.11.11"
  }
 },
 "nbformat": 4,
 "nbformat_minor": 4
}
