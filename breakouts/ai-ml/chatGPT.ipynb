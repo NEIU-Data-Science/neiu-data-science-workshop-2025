{
 "cells": [
  {
   "cell_type": "markdown",
   "metadata": {},
   "source": [
    "This is a quick example of how to use chatGPT and then use it with data."
   ]
  },
  {
   "cell_type": "markdown",
   "metadata": {},
   "source": [
    "# GPT, LLMs, Oh My!\n",
    " - A large language model (LLM) is a collection of statistics that allow us to tell what words may come before or after another set of words with constraints. For example, what is the most likely words could be placed in the blanks in: \"May the ____ be with ______\" in a Star Wars context or in a Catholic Mass context.\n",
    "  - A GPT (Generative Pre-Trained Transformer). It is a kind of neural network algorithm that uses a technique called \"transformers\" and a bit of information to generate new information. For example, if the bit of information is language in the form of \"say i love you in a poem\", a GPT trained in the English language may produce an actual poem.\n",
    "  Techniques like the GPT are called \"Generative\". Models using these techniques are called generative models.\n",
    "\n",
    "  LLMs are also called \"foundational models\"\n",
    "\n",
    "\n",
    "# Testing an LLM (ChatGpt)\n",
    "First, we import the `openai` library and assign our key. You obtain the key by going to the OpenAI [API](https://platform.openai.com/api-keys)"
   ]
  },
  {
   "cell_type": "code",
   "execution_count": 5,
   "metadata": {},
   "outputs": [],
   "source": [
    "import openai\n",
    "openai.api_key = 'sk-proj-psuxh6Uvv82AGdItHgUTT3BlbkFJGS6vKEilhAxJ6MVvPTHu'\n"
   ]
  },
  {
   "cell_type": "markdown",
   "metadata": {},
   "source": [
    "Now, we could go to ChatGPT and ask something right away. However, because there are several parameters to pass each time we make a request, it is easier to create a function that will make this quicker in the future."
   ]
  },
  {
   "cell_type": "code",
   "execution_count": 6,
   "metadata": {},
   "outputs": [],
   "source": [
    "def get_chatgpt_response(prompt):\n",
    "  \n",
    "  try:\n",
    "      response = openai.chat.completions.create(\n",
    "          model=\"gpt-4o\",  # Using GPT-4o\n",
    "          messages=[\n",
    "              {\"role\": \"system\", \"content\": \"You are a helpful assistant.\"},\n",
    "              {\"role\": \"user\", \"content\": prompt}\n",
    "          ],\n",
    "          max_tokens=150,  # Adjust the max tokens as needed\n",
    "          temperature=0.7,\n",
    "      )\n",
    "      return response.choices[0].message.content\n",
    "  except Exception as e:\n",
    "      return str(e)"
   ]
  },
  {
   "cell_type": "markdown",
   "metadata": {},
   "source": [
    "We can then use this function like the example below."
   ]
  },
  {
   "cell_type": "code",
   "execution_count": 7,
   "metadata": {},
   "outputs": [
    {
     "name": "stdout",
     "output_type": "stream",
     "text": [
      "Subject: Welcome to the Data Science Workshop!\n",
      "\n",
      "Dear Faculty Members of the Accounting, Finance, and Computer Science Departments,\n",
      "\n",
      "I hope this message finds you well. We are thrilled to welcome you to our upcoming Data Science Workshop, designed specifically for professionals like you who are keen to explore the intersection of data science with accounting, finance, and computer science.\n",
      "\n",
      "**Date:** [Insert Date]  \n",
      "**Time:** [Insert Time]  \n",
      "**Location:** [Insert Location] or [Virtual Platform Information]\n",
      "\n",
      "This workshop aims to provide you with valuable insights into how data science can enhance research, teaching, and practical applications within your fields. We have curated a series of sessions led by experts who will cover various topics, including:\n",
      "\n",
      "- Introduction to Data Science and Its Applications\n"
     ]
    }
   ],
   "source": [
    "print(get_chatgpt_response(\"write an email welcoming accounting, finances and computer science faculty to a data science workshop\"))"
   ]
  },
  {
   "cell_type": "markdown",
   "metadata": {},
   "source": [
    "# Mixing LLM with Data.\n",
    "Now, let's try somehting wth our data. As we saw earlier in the workshop, we can use *pandas*. Let's import *pandas* and load a file."
   ]
  },
  {
   "cell_type": "code",
   "execution_count": 8,
   "metadata": {},
   "outputs": [],
   "source": [
    "import pandas as pd\n",
    "data_source = \"Crimes.csv\"\n",
    "df = pd.read_csv(data_source)\n"
   ]
  },
  {
   "cell_type": "markdown",
   "metadata": {},
   "source": [
    "Now we will look at one of its rows using pandas."
   ]
  },
  {
   "cell_type": "code",
   "execution_count": 9,
   "metadata": {},
   "outputs": [
    {
     "data": {
      "text/plain": [
       "Unnamed: 0                                                     4506608\n",
       "ID                                                             9878952\n",
       "Case Number                                                   HX529642\n",
       "Date                                                   12/4/14 9:30 AM\n",
       "Block                                                  010XX E 47TH ST\n",
       "IUCR                                                               497\n",
       "Primary Type                                                   BATTERY\n",
       "Description             AGGRAVATED DOMESTIC BATTERY: OTHER DANG WEAPON\n",
       "Location Description                                         APARTMENT\n",
       "Arrest                                                           False\n",
       "Domestic                                                          True\n",
       "Beat                                                               222\n",
       "District                                                             2\n",
       "Ward                                                               4.0\n",
       "Community Area                                                    39.0\n",
       "FBI Code                                                           04B\n",
       "X Coordinate                                                 1183896.0\n",
       "Y Coordinate                                                 1874058.0\n",
       "Year                                                              2014\n",
       "Updated On                                                 2/4/16 6:33\n",
       "Latitude                                                     41.809597\n",
       "Longitude                                                   -87.601016\n",
       "Location                                       (41.809597, -87.601016)\n",
       "Name: 0, dtype: object"
      ]
     },
     "execution_count": 9,
     "metadata": {},
     "output_type": "execute_result"
    }
   ],
   "source": [
    "df.iloc[0]"
   ]
  },
  {
   "cell_type": "markdown",
   "metadata": {},
   "source": [
    "But we do not want the `Unnamed`, `ID` nor `Case Number` components as they are irrelevant for data \"finding\""
   ]
  },
  {
   "cell_type": "code",
   "execution_count": 26,
   "metadata": {},
   "outputs": [
    {
     "data": {
      "text/plain": [
       "pandas.core.series.Series"
      ]
     },
     "execution_count": 26,
     "metadata": {},
     "output_type": "execute_result"
    }
   ],
   "source": [
    "colnames = list(df.columns[3:])\n",
    "crime = df.loc[0, colnames]"
   ]
  },
  {
   "cell_type": "markdown",
   "metadata": {},
   "source": [
    "Now that we have a human-readable output (i.e attribute-value pairs) we need to pass it to chatGPt with a prompt.\n",
    "However, `crime` is a **Series**. For chatGPT it needs to be a **String** (i.e. plain text)"
   ]
  },
  {
   "cell_type": "code",
   "execution_count": 27,
   "metadata": {},
   "outputs": [
    {
     "data": {
      "text/plain": [
       "'On December 4, 2014, at 9:30 AM, an incident of aggravated domestic battery involving a dangerous weapon occurred in an apartment located on the 1000 block of E 47th St. This crime was classified under the primary type \"Battery\" with a specific description of \"Aggravated Domestic Battery: Other Dangerous Weapon.\" The incident was not associated with an arrest. It took place within the jurisdiction of police beat 222, district 2, ward 4, and community area 39. The crime is recorded under the FBI code 04B, and its geographic coordinates are approximately 41.809597 latitude and -87.601016 longitude. The details were last updated on February 4, 201'"
      ]
     },
     "execution_count": 27,
     "metadata": {},
     "output_type": "execute_result"
    }
   ],
   "source": [
    "myprompt = '''summarize the crime with the following characteristics:'''+str(crime)\n",
    "get_chatgpt_response(myprompt)"
   ]
  },
  {
   "cell_type": "markdown",
   "metadata": {},
   "source": [
    "Using the same ideas, we can summarize a set of crimes. We will first select a series of crimes and covert them into strings. Then we will pass them to GPT with a promp."
   ]
  },
  {
   "cell_type": "code",
   "execution_count": 44,
   "metadata": {},
   "outputs": [
    {
     "name": "stdout",
     "output_type": "stream",
     "text": [
      "('To analyze the commonalities and differences in the given set of 10 crimes, '\n",
      " \"let's break down the data considering several key attributes:\\n\"\n",
      " '\\n'\n",
      " '### Commonalities:\\n'\n",
      " '1. **Location Type**: Many crimes occurred on public places like streets and '\n",
      " 'sidewalks, indicating a trend of offenses happening in open areas.\\n'\n",
      " '2. **Arrest Status**: A majority of the incidents (6 out of 10) resulted in '\n",
      " 'an arrest.\\n'\n",
      " '3. **Domestic**: Most crimes (9 out of 10) are not domestic-related, showing '\n",
      " 'these incidents are likely between individuals not in a domestic '\n",
      " 'relationship.\\n'\n",
      " '4. **Year**: The crimes span over a range of years from 2001 to 2015, but '\n",
      " 'several occurred in the early 2000')\n"
     ]
    }
   ],
   "source": [
    "import pprint\n",
    "crimes = df[colnames[3:]]\n",
    "myprompt = \"Describe whats common and what is different in these set of 10 crimes with the characteristics in thhis table: \\n\"+str(crimes.loc[1:10])\n",
    "pprint.pprint(get_chatgpt_response(myprompt))"
   ]
  }
 ],
 "metadata": {
  "kernelspec": {
   "display_name": "Python 3",
   "language": "python",
   "name": "python3"
  },
  "language_info": {
   "codemirror_mode": {
    "name": "ipython",
    "version": 3
   },
   "file_extension": ".py",
   "mimetype": "text/x-python",
   "name": "python",
   "nbconvert_exporter": "python",
   "pygments_lexer": "ipython3",
   "version": "3.12.5"
  }
 },
 "nbformat": 4,
 "nbformat_minor": 2
}
