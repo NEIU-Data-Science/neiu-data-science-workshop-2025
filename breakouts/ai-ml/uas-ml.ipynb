{
 "cells": [
  {
   "cell_type": "markdown",
   "id": "718a43b9-b1eb-4f52-b349-2e0add216b3a",
   "metadata": {},
   "source": [
    "# 01 - Compare Various ML/AI Techniques to Diabetes Data\n",
    "This is adapted from the kaggle notebook here\n",
    "https://www.kaggle.com/code/alhazmi36/uas-ml/notebook"
   ]
  },
  {
   "cell_type": "markdown",
   "id": "20434878-c47a-42ed-b30e-f29533d73e9b",
   "metadata": {},
   "source": [
    "## Imports"
   ]
  },
  {
   "cell_type": "code",
   "execution_count": 1,
   "id": "8329ae16",
   "metadata": {
    "_cell_guid": "b1076dfc-b9ad-4769-8c92-a6c4dae69d19",
    "_uuid": "8f2839f25d086af736a60e9eeb907d3b93b6e0e5",
    "papermill": {
     "duration": 4.17964,
     "end_time": "2024-12-12T10:53:08.434716",
     "exception": false,
     "start_time": "2024-12-12T10:53:04.255076",
     "status": "completed"
    },
    "tags": []
   },
   "outputs": [
    {
     "data": {
      "text/html": [
       "<div>\n",
       "<style scoped>\n",
       "    .dataframe tbody tr th:only-of-type {\n",
       "        vertical-align: middle;\n",
       "    }\n",
       "\n",
       "    .dataframe tbody tr th {\n",
       "        vertical-align: top;\n",
       "    }\n",
       "\n",
       "    .dataframe thead th {\n",
       "        text-align: right;\n",
       "    }\n",
       "</style>\n",
       "<table border=\"1\" class=\"dataframe\">\n",
       "  <thead>\n",
       "    <tr style=\"text-align: right;\">\n",
       "      <th></th>\n",
       "      <th>Diabetes_binary</th>\n",
       "      <th>HighBP</th>\n",
       "      <th>HighChol</th>\n",
       "      <th>CholCheck</th>\n",
       "      <th>BMI</th>\n",
       "      <th>Smoker</th>\n",
       "      <th>Stroke</th>\n",
       "      <th>HeartDiseaseorAttack</th>\n",
       "      <th>PhysActivity</th>\n",
       "      <th>Fruits</th>\n",
       "      <th>...</th>\n",
       "      <th>AnyHealthcare</th>\n",
       "      <th>NoDocbcCost</th>\n",
       "      <th>GenHlth</th>\n",
       "      <th>MentHlth</th>\n",
       "      <th>PhysHlth</th>\n",
       "      <th>DiffWalk</th>\n",
       "      <th>Sex</th>\n",
       "      <th>Age</th>\n",
       "      <th>Education</th>\n",
       "      <th>Income</th>\n",
       "    </tr>\n",
       "  </thead>\n",
       "  <tbody>\n",
       "    <tr>\n",
       "      <th>0</th>\n",
       "      <td>0.0</td>\n",
       "      <td>1.0</td>\n",
       "      <td>1.0</td>\n",
       "      <td>1.0</td>\n",
       "      <td>40.0</td>\n",
       "      <td>1.0</td>\n",
       "      <td>0.0</td>\n",
       "      <td>0.0</td>\n",
       "      <td>0.0</td>\n",
       "      <td>0.0</td>\n",
       "      <td>...</td>\n",
       "      <td>1.0</td>\n",
       "      <td>0.0</td>\n",
       "      <td>5.0</td>\n",
       "      <td>18.0</td>\n",
       "      <td>15.0</td>\n",
       "      <td>1.0</td>\n",
       "      <td>0.0</td>\n",
       "      <td>9.0</td>\n",
       "      <td>4.0</td>\n",
       "      <td>3.0</td>\n",
       "    </tr>\n",
       "    <tr>\n",
       "      <th>1</th>\n",
       "      <td>0.0</td>\n",
       "      <td>0.0</td>\n",
       "      <td>0.0</td>\n",
       "      <td>0.0</td>\n",
       "      <td>25.0</td>\n",
       "      <td>1.0</td>\n",
       "      <td>0.0</td>\n",
       "      <td>0.0</td>\n",
       "      <td>1.0</td>\n",
       "      <td>0.0</td>\n",
       "      <td>...</td>\n",
       "      <td>0.0</td>\n",
       "      <td>1.0</td>\n",
       "      <td>3.0</td>\n",
       "      <td>0.0</td>\n",
       "      <td>0.0</td>\n",
       "      <td>0.0</td>\n",
       "      <td>0.0</td>\n",
       "      <td>7.0</td>\n",
       "      <td>6.0</td>\n",
       "      <td>1.0</td>\n",
       "    </tr>\n",
       "    <tr>\n",
       "      <th>2</th>\n",
       "      <td>0.0</td>\n",
       "      <td>1.0</td>\n",
       "      <td>1.0</td>\n",
       "      <td>1.0</td>\n",
       "      <td>28.0</td>\n",
       "      <td>0.0</td>\n",
       "      <td>0.0</td>\n",
       "      <td>0.0</td>\n",
       "      <td>0.0</td>\n",
       "      <td>1.0</td>\n",
       "      <td>...</td>\n",
       "      <td>1.0</td>\n",
       "      <td>1.0</td>\n",
       "      <td>5.0</td>\n",
       "      <td>30.0</td>\n",
       "      <td>30.0</td>\n",
       "      <td>1.0</td>\n",
       "      <td>0.0</td>\n",
       "      <td>9.0</td>\n",
       "      <td>4.0</td>\n",
       "      <td>8.0</td>\n",
       "    </tr>\n",
       "    <tr>\n",
       "      <th>3</th>\n",
       "      <td>0.0</td>\n",
       "      <td>1.0</td>\n",
       "      <td>0.0</td>\n",
       "      <td>1.0</td>\n",
       "      <td>27.0</td>\n",
       "      <td>0.0</td>\n",
       "      <td>0.0</td>\n",
       "      <td>0.0</td>\n",
       "      <td>1.0</td>\n",
       "      <td>1.0</td>\n",
       "      <td>...</td>\n",
       "      <td>1.0</td>\n",
       "      <td>0.0</td>\n",
       "      <td>2.0</td>\n",
       "      <td>0.0</td>\n",
       "      <td>0.0</td>\n",
       "      <td>0.0</td>\n",
       "      <td>0.0</td>\n",
       "      <td>11.0</td>\n",
       "      <td>3.0</td>\n",
       "      <td>6.0</td>\n",
       "    </tr>\n",
       "    <tr>\n",
       "      <th>4</th>\n",
       "      <td>0.0</td>\n",
       "      <td>1.0</td>\n",
       "      <td>1.0</td>\n",
       "      <td>1.0</td>\n",
       "      <td>24.0</td>\n",
       "      <td>0.0</td>\n",
       "      <td>0.0</td>\n",
       "      <td>0.0</td>\n",
       "      <td>1.0</td>\n",
       "      <td>1.0</td>\n",
       "      <td>...</td>\n",
       "      <td>1.0</td>\n",
       "      <td>0.0</td>\n",
       "      <td>2.0</td>\n",
       "      <td>3.0</td>\n",
       "      <td>0.0</td>\n",
       "      <td>0.0</td>\n",
       "      <td>0.0</td>\n",
       "      <td>11.0</td>\n",
       "      <td>5.0</td>\n",
       "      <td>4.0</td>\n",
       "    </tr>\n",
       "  </tbody>\n",
       "</table>\n",
       "<p>5 rows × 22 columns</p>\n",
       "</div>"
      ],
      "text/plain": [
       "   Diabetes_binary  HighBP  HighChol  CholCheck   BMI  Smoker  Stroke  \\\n",
       "0              0.0     1.0       1.0        1.0  40.0     1.0     0.0   \n",
       "1              0.0     0.0       0.0        0.0  25.0     1.0     0.0   \n",
       "2              0.0     1.0       1.0        1.0  28.0     0.0     0.0   \n",
       "3              0.0     1.0       0.0        1.0  27.0     0.0     0.0   \n",
       "4              0.0     1.0       1.0        1.0  24.0     0.0     0.0   \n",
       "\n",
       "   HeartDiseaseorAttack  PhysActivity  Fruits  ...  AnyHealthcare  \\\n",
       "0                   0.0           0.0     0.0  ...            1.0   \n",
       "1                   0.0           1.0     0.0  ...            0.0   \n",
       "2                   0.0           0.0     1.0  ...            1.0   \n",
       "3                   0.0           1.0     1.0  ...            1.0   \n",
       "4                   0.0           1.0     1.0  ...            1.0   \n",
       "\n",
       "   NoDocbcCost  GenHlth  MentHlth  PhysHlth  DiffWalk  Sex   Age  Education  \\\n",
       "0          0.0      5.0      18.0      15.0       1.0  0.0   9.0        4.0   \n",
       "1          1.0      3.0       0.0       0.0       0.0  0.0   7.0        6.0   \n",
       "2          1.0      5.0      30.0      30.0       1.0  0.0   9.0        4.0   \n",
       "3          0.0      2.0       0.0       0.0       0.0  0.0  11.0        3.0   \n",
       "4          0.0      2.0       3.0       0.0       0.0  0.0  11.0        5.0   \n",
       "\n",
       "   Income  \n",
       "0     3.0  \n",
       "1     1.0  \n",
       "2     8.0  \n",
       "3     6.0  \n",
       "4     4.0  \n",
       "\n",
       "[5 rows x 22 columns]"
      ]
     },
     "execution_count": 1,
     "metadata": {},
     "output_type": "execute_result"
    }
   ],
   "source": [
    "# Import libraries\n",
    "import pandas as pd\n",
    "import numpy as np\n",
    "\n",
    "# For pre-processing and data sharing\n",
    "from sklearn.model_selection import train_test_split\n",
    "\n",
    "# For handling data imbalance\n",
    "from imblearn.combine import SMOTETomek\n",
    "from imblearn.under_sampling import TomekLinks\n",
    "\n",
    "# To standardize the data\n",
    "from sklearn.preprocessing import StandardScaler\n",
    "\n",
    "# For feature selection\n",
    "from sklearn.feature_selection import RFE\n",
    "\n",
    "# Model machine learning\n",
    "from sklearn.ensemble import RandomForestClassifier\n",
    "\n",
    "# For model evaluation\n",
    "from sklearn.metrics import accuracy_score, precision_score, recall_score, confusion_matrix\n",
    "import seaborn as sns\n",
    "import matplotlib.pyplot as plt\n",
    "\n",
    "\n",
    "df = pd.read_csv('diabetes_binary_health_indicators_BRFSS2015.csv')\n",
    "df.head()"
   ]
  },
  {
   "cell_type": "code",
   "execution_count": 2,
   "id": "98d02dfe-cea1-42ca-98db-f7bc40d9b520",
   "metadata": {},
   "outputs": [
    {
     "data": {
      "text/plain": [
       "Index(['Diabetes_binary', 'HighBP', 'HighChol', 'CholCheck', 'BMI', 'Smoker',\n",
       "       'Stroke', 'HeartDiseaseorAttack', 'PhysActivity', 'Fruits', 'Veggies',\n",
       "       'HvyAlcoholConsump', 'AnyHealthcare', 'NoDocbcCost', 'GenHlth',\n",
       "       'MentHlth', 'PhysHlth', 'DiffWalk', 'Sex', 'Age', 'Education',\n",
       "       'Income'],\n",
       "      dtype='object')"
      ]
     },
     "execution_count": 2,
     "metadata": {},
     "output_type": "execute_result"
    }
   ],
   "source": [
    "df.columns"
   ]
  },
  {
   "cell_type": "code",
   "execution_count": 3,
   "id": "c986ec28",
   "metadata": {
    "papermill": {
     "duration": 0.289383,
     "end_time": "2024-12-12T10:53:08.729182",
     "exception": false,
     "start_time": "2024-12-12T10:53:08.439799",
     "status": "completed"
    },
    "tags": []
   },
   "outputs": [
    {
     "name": "stdout",
     "output_type": "stream",
     "text": [
      "<class 'pandas.core.frame.DataFrame'>\n",
      "RangeIndex: 253680 entries, 0 to 253679\n",
      "Data columns (total 22 columns):\n",
      " #   Column                Non-Null Count   Dtype  \n",
      "---  ------                --------------   -----  \n",
      " 0   Diabetes_binary       253680 non-null  float64\n",
      " 1   HighBP                253680 non-null  float64\n",
      " 2   HighChol              253680 non-null  float64\n",
      " 3   CholCheck             253680 non-null  float64\n",
      " 4   BMI                   253680 non-null  float64\n",
      " 5   Smoker                253680 non-null  float64\n",
      " 6   Stroke                253680 non-null  float64\n",
      " 7   HeartDiseaseorAttack  253680 non-null  float64\n",
      " 8   PhysActivity          253680 non-null  float64\n",
      " 9   Fruits                253680 non-null  float64\n",
      " 10  Veggies               253680 non-null  float64\n",
      " 11  HvyAlcoholConsump     253680 non-null  float64\n",
      " 12  AnyHealthcare         253680 non-null  float64\n",
      " 13  NoDocbcCost           253680 non-null  float64\n",
      " 14  GenHlth               253680 non-null  float64\n",
      " 15  MentHlth              253680 non-null  float64\n",
      " 16  PhysHlth              253680 non-null  float64\n",
      " 17  DiffWalk              253680 non-null  float64\n",
      " 18  Sex                   253680 non-null  float64\n",
      " 19  Age                   253680 non-null  float64\n",
      " 20  Education             253680 non-null  float64\n",
      " 21  Income                253680 non-null  float64\n",
      "dtypes: float64(22)\n",
      "memory usage: 42.6 MB\n",
      "None\n",
      "       Diabetes_binary         HighBP       HighChol      CholCheck  \\\n",
      "count    253680.000000  253680.000000  253680.000000  253680.000000   \n",
      "mean          0.139333       0.429001       0.424121       0.962670   \n",
      "std           0.346294       0.494934       0.494210       0.189571   \n",
      "min           0.000000       0.000000       0.000000       0.000000   \n",
      "25%           0.000000       0.000000       0.000000       1.000000   \n",
      "50%           0.000000       0.000000       0.000000       1.000000   \n",
      "75%           0.000000       1.000000       1.000000       1.000000   \n",
      "max           1.000000       1.000000       1.000000       1.000000   \n",
      "\n",
      "                 BMI         Smoker         Stroke  HeartDiseaseorAttack  \\\n",
      "count  253680.000000  253680.000000  253680.000000         253680.000000   \n",
      "mean       28.382364       0.443169       0.040571              0.094186   \n",
      "std         6.608694       0.496761       0.197294              0.292087   \n",
      "min        12.000000       0.000000       0.000000              0.000000   \n",
      "25%        24.000000       0.000000       0.000000              0.000000   \n",
      "50%        27.000000       0.000000       0.000000              0.000000   \n",
      "75%        31.000000       1.000000       0.000000              0.000000   \n",
      "max        98.000000       1.000000       1.000000              1.000000   \n",
      "\n",
      "        PhysActivity         Fruits  ...  AnyHealthcare    NoDocbcCost  \\\n",
      "count  253680.000000  253680.000000  ...  253680.000000  253680.000000   \n",
      "mean        0.756544       0.634256  ...       0.951053       0.084177   \n",
      "std         0.429169       0.481639  ...       0.215759       0.277654   \n",
      "min         0.000000       0.000000  ...       0.000000       0.000000   \n",
      "25%         1.000000       0.000000  ...       1.000000       0.000000   \n",
      "50%         1.000000       1.000000  ...       1.000000       0.000000   \n",
      "75%         1.000000       1.000000  ...       1.000000       0.000000   \n",
      "max         1.000000       1.000000  ...       1.000000       1.000000   \n",
      "\n",
      "             GenHlth       MentHlth       PhysHlth       DiffWalk  \\\n",
      "count  253680.000000  253680.000000  253680.000000  253680.000000   \n",
      "mean        2.511392       3.184772       4.242081       0.168224   \n",
      "std         1.068477       7.412847       8.717951       0.374066   \n",
      "min         1.000000       0.000000       0.000000       0.000000   \n",
      "25%         2.000000       0.000000       0.000000       0.000000   \n",
      "50%         2.000000       0.000000       0.000000       0.000000   \n",
      "75%         3.000000       2.000000       3.000000       0.000000   \n",
      "max         5.000000      30.000000      30.000000       1.000000   \n",
      "\n",
      "                 Sex            Age      Education         Income  \n",
      "count  253680.000000  253680.000000  253680.000000  253680.000000  \n",
      "mean        0.440342       8.032119       5.050434       6.053875  \n",
      "std         0.496429       3.054220       0.985774       2.071148  \n",
      "min         0.000000       1.000000       1.000000       1.000000  \n",
      "25%         0.000000       6.000000       4.000000       5.000000  \n",
      "50%         0.000000       8.000000       5.000000       7.000000  \n",
      "75%         1.000000      10.000000       6.000000       8.000000  \n",
      "max         1.000000      13.000000       6.000000       8.000000  \n",
      "\n",
      "[8 rows x 22 columns]\n"
     ]
    }
   ],
   "source": [
    "print(df.info())\n",
    "print(df.describe())"
   ]
  },
  {
   "cell_type": "code",
   "execution_count": 4,
   "id": "0725a3a0",
   "metadata": {
    "papermill": {
     "duration": 0.173325,
     "end_time": "2024-12-12T10:53:08.907539",
     "exception": false,
     "start_time": "2024-12-12T10:53:08.734214",
     "status": "completed"
    },
    "tags": []
   },
   "outputs": [
    {
     "data": {
      "text/plain": [
       "Diabetes_binary\n",
       "0.0    218334\n",
       "1.0     35346\n",
       "Name: count, dtype: int64"
      ]
     },
     "execution_count": 4,
     "metadata": {},
     "output_type": "execute_result"
    },
    {
     "data": {
      "image/png": "[encoded data removed]",
      "text/plain": [
       "<Figure size 640x480 with 1 Axes>"
      ]
     },
     "metadata": {},
     "output_type": "display_data"
    }
   ],
   "source": [
    "df['Diabetes_binary'].value_counts().plot(kind='pie')\n",
    "df['Diabetes_binary'].value_counts()"
   ]
  },
  {
   "cell_type": "markdown",
   "id": "38e6255a",
   "metadata": {
    "papermill": {
     "duration": 0.0147,
     "end_time": "2024-12-12T10:53:08.939397",
     "exception": false,
     "start_time": "2024-12-12T10:53:08.924697",
     "status": "completed"
    },
    "tags": []
   },
   "source": [
    "## SPLIT DATA TRAIN & DATA TEST"
   ]
  },
  {
   "cell_type": "code",
   "execution_count": 5,
   "id": "93bcbcfb",
   "metadata": {
    "papermill": {
     "duration": 0.113567,
     "end_time": "2024-12-12T10:53:09.067972",
     "exception": false,
     "start_time": "2024-12-12T10:53:08.954405",
     "status": "completed"
    },
    "tags": []
   },
   "outputs": [],
   "source": [
    "# Separate features and targets\n",
    "X = df.drop('Diabetes_binary', axis=1)\n",
    "y = df['Diabetes_binary']\n",
    "\n",
    "# Division of data into training data and test data\n",
    "X_train, X_test, y_train, y_test = train_test_split(X, y, test_size=0.4)"
   ]
  },
  {
   "cell_type": "markdown",
   "id": "7f9027a9",
   "metadata": {
    "papermill": {
     "duration": 0.005011,
     "end_time": "2024-12-12T10:53:09.089216",
     "exception": false,
     "start_time": "2024-12-12T10:53:09.084205",
     "status": "completed"
    },
    "tags": []
   },
   "source": [
    "### Make sure the dataset is balanced"
   ]
  },
  {
   "cell_type": "code",
   "execution_count": 6,
   "id": "435adb58",
   "metadata": {
    "papermill": {
     "duration": 170.850432,
     "end_time": "2024-12-12T10:55:59.945002",
     "exception": false,
     "start_time": "2024-12-12T10:53:09.094570",
     "status": "completed"
    },
    "tags": []
   },
   "outputs": [
    {
     "name": "stderr",
     "output_type": "stream",
     "text": [
      "/var/folders/bw/c9j8z20x45s2y20vv6528qjc0000gq/T/ipykernel_77798/1282855888.py:8: DeprecationWarning: Non-integer input passed to bincount. In a future version of NumPy, this will be an error. (Deprecated NumPy 2.1)\n",
      "  print('Class distribution before resampling:', np.bincount(y_train))\n",
      "/var/folders/bw/c9j8z20x45s2y20vv6528qjc0000gq/T/ipykernel_77798/1282855888.py:9: DeprecationWarning: Non-integer input passed to bincount. In a future version of NumPy, this will be an error. (Deprecated NumPy 2.1)\n",
      "  print('Class distribution before resampling:', np.bincount(y_train_resampled))\n",
      "/var/folders/bw/c9j8z20x45s2y20vv6528qjc0000gq/T/ipykernel_77798/1282855888.py:16: FutureWarning: \n",
      "\n",
      "Passing `palette` without assigning `hue` is deprecated and will be removed in v0.14.0. Assign the `x` variable to `hue` and set `legend=False` for the same effect.\n",
      "\n",
      "  sns.countplot(x=y_before, ax=ax[0], palette=\"Set2\")\n"
     ]
    },
    {
     "name": "stdout",
     "output_type": "stream",
     "text": [
      "Class distribution before resampling: [130931  21277]\n",
      "Class distribution before resampling: [130840 130931]\n"
     ]
    },
    {
     "name": "stderr",
     "output_type": "stream",
     "text": [
      "/var/folders/bw/c9j8z20x45s2y20vv6528qjc0000gq/T/ipykernel_77798/1282855888.py:22: FutureWarning: \n",
      "\n",
      "Passing `palette` without assigning `hue` is deprecated and will be removed in v0.14.0. Assign the `x` variable to `hue` and set `legend=False` for the same effect.\n",
      "\n",
      "  sns.countplot(x=y_after, ax=ax[1], palette=\"Set1\")\n"
     ]
    },
    {
     "data": {
      "image/png": "[encoded data removed]",
      "text/plain": [
       "<Figure size 1200x600 with 2 Axes>"
      ]
     },
     "metadata": {},
     "output_type": "display_data"
    }
   ],
   "source": [
    "from imblearn.combine import SMOTETomek\n",
    "\n",
    "# Split up the data\n",
    "smt = SMOTETomek(tomek=TomekLinks(sampling_strategy='majority'))\n",
    "X_train_resampled, y_train_resampled = smt.fit_resample(X_train, y_train)\n",
    "\n",
    "# Resample\n",
    "print('Class distribution before resampling:', np.bincount(y_train))\n",
    "print('Class distribution before resampling:', np.bincount(y_train_resampled))\n",
    "\n",
    "# Visualization of class distribution before and after\n",
    "def plot_class_distribution(y_before, y_after, title_before, title_after):\n",
    "    fig, ax = plt.subplots(1, 2, figsize=(12, 6))\n",
    "\n",
    "    # Plot sebelum SMOTE-Tomek\n",
    "    sns.countplot(x=y_before, ax=ax[0], palette=\"Set2\")\n",
    "    ax[0].set_title(title_before)\n",
    "    ax[0].set_xlabel(\"\")\n",
    "    ax[0].set_ylabel(\"Jumlah\")\n",
    "\n",
    "    # Plot sesudah SMOTE-Tomek\n",
    "    sns.countplot(x=y_after, ax=ax[1], palette=\"Set1\")\n",
    "    ax[1].set_title(title_after)\n",
    "    ax[1].set_xlabel(\"Diabetes_binary\")\n",
    "    ax[1].set_ylabel(\"Jumlah\")\n",
    "\n",
    "    plt.tight_layout()\n",
    "    plt.show()\n",
    "\n",
    "# Sebelum SMOTE-Tomek (y_train) dan Setelah SMOTE-Tomek (y_train_resampled)\n",
    "plot_class_distribution(y_train, y_train_resampled, \"Before distribution split\", \"After distribution split\")"
   ]
  },
  {
   "cell_type": "markdown",
   "id": "bab0acd8",
   "metadata": {
    "papermill": {
     "duration": 0.005712,
     "end_time": "2024-12-12T10:55:59.956606",
     "exception": false,
     "start_time": "2024-12-12T10:55:59.950894",
     "status": "completed"
    },
    "tags": []
   },
   "source": [
    "## Feature Selection"
   ]
  },
  {
   "cell_type": "code",
   "execution_count": 7,
   "id": "84d0bb84",
   "metadata": {
    "papermill": {
     "duration": 1540.233218,
     "end_time": "2024-12-12T11:21:40.195610",
     "exception": false,
     "start_time": "2024-12-12T10:55:59.962392",
     "status": "completed"
    },
    "tags": []
   },
   "outputs": [
    {
     "name": "stdout",
     "output_type": "stream",
     "text": [
      "Optimal number of features : 18\n",
      "Best features : Index(['HighBP', 'HighChol', 'BMI', 'Smoker', 'HeartDiseaseorAttack',\n",
      "       'PhysActivity', 'Fruits', 'Veggies', 'HvyAlcoholConsump', 'NoDocbcCost',\n",
      "       'GenHlth', 'MentHlth', 'PhysHlth', 'DiffWalk', 'Sex', 'Age',\n",
      "       'Education', 'Income'],\n",
      "      dtype='object')\n"
     ]
    }
   ],
   "source": [
    "from sklearn.feature_selection import RFECV\n",
    "\n",
    "# The \"accuracy\" scoring is proportional to the number of correct classifications\n",
    "estimator2= RandomForestClassifier() \n",
    "rfecv = RFECV(estimator=estimator2, step=1, n_jobs=-1, cv=5, scoring='recall')   #5-fold cross-validation\n",
    "rfecv = rfecv.fit(X_train_resampled, y_train_resampled)\n",
    "\n",
    "# Get the best features selected by RFE\n",
    "selected_rfecv = X_train_resampled.columns[rfecv.support_]\n",
    "\n",
    "print('Optimal number of features :', rfecv.n_features_)\n",
    "print('Best features :', selected_rfecv)"
   ]
  },
  {
   "cell_type": "code",
   "execution_count": 8,
   "id": "3e5fe226",
   "metadata": {
    "papermill": {
     "duration": 0.036909,
     "end_time": "2024-12-12T11:21:40.238750",
     "exception": false,
     "start_time": "2024-12-12T11:21:40.201841",
     "status": "completed"
    },
    "tags": []
   },
   "outputs": [],
   "source": [
    "# Create a new DataFrame with only the selected features\n",
    "X_train_selected_rfecv = X_train_resampled[selected_rfecv]\n",
    "X_test_selected_rfecv = X_test[selected_rfecv]"
   ]
  },
  {
   "cell_type": "markdown",
   "id": "7b0199b1",
   "metadata": {
    "papermill": {
     "duration": 0.005858,
     "end_time": "2024-12-12T11:21:40.250756",
     "exception": false,
     "start_time": "2024-12-12T11:21:40.244898",
     "status": "completed"
    },
    "tags": []
   },
   "source": [
    "# Random Forest"
   ]
  },
  {
   "cell_type": "code",
   "execution_count": 9,
   "id": "bb57e39e",
   "metadata": {
    "papermill": {
     "duration": 26.302936,
     "end_time": "2024-12-12T11:22:06.559844",
     "exception": false,
     "start_time": "2024-12-12T11:21:40.256908",
     "status": "completed"
    },
    "tags": []
   },
   "outputs": [
    {
     "name": "stdout",
     "output_type": "stream",
     "text": [
      "Accuracy: 83.37%\n",
      "Precision: 41.10%\n",
      "Recall: 46.08%\n"
     ]
    },
    {
     "data": {
      "image/png": "[encoded data removed]",
      "text/plain": [
       "<Figure size 600x400 with 2 Axes>"
      ]
     },
     "metadata": {},
     "output_type": "display_data"
    }
   ],
   "source": [
    "# Initialize the Random Forest\n",
    "rf_model = RandomForestClassifier(bootstrap= True, \n",
    "                                n_estimators=200, n_jobs=-1, \n",
    "                                max_depth=20, max_features='sqrt', \n",
    "                                min_samples_leaf=1,\n",
    "                                max_leaf_nodes = 150,\n",
    "                                min_samples_split = 5,\n",
    "                                random_state=42)\n",
    "\n",
    "# Train the model on the processed training data\n",
    "rf_model.fit(X_train_selected_rfecv, y_train_resampled)\n",
    "\n",
    "# Prediction on test data\n",
    "y_pred = rf_model.predict(X_test_selected_rfecv)\n",
    "\n",
    "# Evaluate model performance\n",
    "accuracy = accuracy_score(y_test, y_pred)\n",
    "precision = precision_score(y_test, y_pred)\n",
    "recall = recall_score(y_test, y_pred)\n",
    "\n",
    "print(\"Accuracy: {:.2f}%\".format(accuracy * 100))\n",
    "print(\"Precision: {:.2f}%\".format(precision * 100))\n",
    "print(\"Recall: {:.2f}%\".format(recall * 100))\n",
    "\n",
    "# Confusion Matrix\n",
    "cf_matrix = confusion_matrix(y_test, y_pred)\n",
    "\n",
    "# Plot Confusion Matrix\n",
    "plt.figure(figsize=(6,4))\n",
    "sns.heatmap(cf_matrix, annot=True, fmt='d', cmap='Blues')\n",
    "plt.xlabel('Prediksi')\n",
    "plt.ylabel('Aktual')\n",
    "plt.title('Confusion Matrix')\n",
    "plt.show()"
   ]
  },
  {
   "cell_type": "code",
   "execution_count": 10,
   "id": "852301cf",
   "metadata": {
    "papermill": {
     "duration": 1.945932,
     "end_time": "2024-12-12T11:22:08.512344",
     "exception": false,
     "start_time": "2024-12-12T11:22:06.566412",
     "status": "completed"
    },
    "tags": []
   },
   "outputs": [
    {
     "name": "stdout",
     "output_type": "stream",
     "text": [
      "Training Accuracy: 87.63%\n",
      "Test Accuracy: 83.37%\n"
     ]
    }
   ],
   "source": [
    "# Evaluate model performance on training data\n",
    "y_train_pred = rf_model.predict(X_train_selected_rfecv)\n",
    "train_accuracy = accuracy_score(y_train_resampled, y_train_pred)\n",
    "print(\"Training Accuracy: {:.2f}%\".format(train_accuracy * 100))\n",
    "\n",
    "# Evaluate model performance on test data\n",
    "test_accuracy = accuracy_score(y_test, y_pred)\n",
    "print(\"Test Accuracy: {:.2f}%\".format(test_accuracy * 100))"
   ]
  },
  {
   "cell_type": "markdown",
   "id": "f1c65006",
   "metadata": {
    "papermill": {
     "duration": 0.0065,
     "end_time": "2024-12-12T11:22:08.525458",
     "exception": false,
     "start_time": "2024-12-12T11:22:08.518958",
     "status": "completed"
    },
    "tags": []
   },
   "source": [
    "# KNN"
   ]
  },
  {
   "cell_type": "code",
   "execution_count": 11,
   "id": "0cf3ac44",
   "metadata": {
    "papermill": {
     "duration": 68.431437,
     "end_time": "2024-12-12T11:23:16.963343",
     "exception": false,
     "start_time": "2024-12-12T11:22:08.531906",
     "status": "completed"
    },
    "tags": []
   },
   "outputs": [
    {
     "name": "stdout",
     "output_type": "stream",
     "text": [
      "Accuracy: 69.19%\n",
      "Precision: 25.65%\n",
      "Recall: 64.37%\n"
     ]
    },
    {
     "data": {
      "image/png": "[encoded data removed]",
      "text/plain": [
       "<Figure size 600x400 with 2 Axes>"
      ]
     },
     "metadata": {},
     "output_type": "display_data"
    }
   ],
   "source": [
    "# Model machine learning\n",
    "from sklearn.neighbors import KNeighborsClassifier\n",
    "\n",
    "# Initialize KNN model\n",
    "knn_model = KNeighborsClassifier(n_neighbors=5, weights='uniform', algorithm='auto', n_jobs=-1)\n",
    "\n",
    "# Train the model on pre-processed training data\n",
    "knn_model.fit(X_train_selected_rfecv, y_train_resampled)\n",
    "\n",
    "# Prediction on test data\n",
    "y_pred_knn = knn_model.predict(X_test_selected_rfecv)\n",
    "\n",
    "# Evaluate model performance\n",
    "accuracy_knn = accuracy_score(y_test, y_pred_knn)\n",
    "precision_knn = precision_score(y_test, y_pred_knn)\n",
    "recall_knn = recall_score(y_test, y_pred_knn)\n",
    "\n",
    "print(\"Accuracy: {:.2f}%\".format(accuracy_knn * 100))\n",
    "print(\"Precision: {:.2f}%\".format(precision_knn * 100))\n",
    "print(\"Recall: {:.2f}%\".format(recall_knn * 100))\n",
    "\n",
    "# Confusion Matrix\n",
    "cf_matrix_knn = confusion_matrix(y_test, y_pred_knn)\n",
    "\n",
    "# Plot Confusion Matrix\n",
    "plt.figure(figsize=(6,4))\n",
    "sns.heatmap(cf_matrix_knn, annot=True, fmt='d', cmap='Blues')\n",
    "plt.xlabel('Prediksi')\n",
    "plt.ylabel('Aktual')\n",
    "plt.title('Confusion Matrix - KNN')\n",
    "plt.show()"
   ]
  },
  {
   "cell_type": "code",
   "execution_count": 12,
   "id": "7f41bba5",
   "metadata": {
    "papermill": {
     "duration": 175.38224,
     "end_time": "2024-12-12T11:26:12.352720",
     "exception": false,
     "start_time": "2024-12-12T11:23:16.970480",
     "status": "completed"
    },
    "tags": []
   },
   "outputs": [
    {
     "name": "stdout",
     "output_type": "stream",
     "text": [
      "Training Accuracy: 88.19%\n",
      "Test Accuracy: 69.19%\n"
     ]
    }
   ],
   "source": [
    "# Evaluate model performance on training data\n",
    "y_train_pred_knn = knn_model.predict(X_train_selected_rfecv)\n",
    "train_accuracy_knn = accuracy_score(y_train_resampled, y_train_pred_knn)\n",
    "print(\"Training Accuracy: {:.2f}%\".format(train_accuracy_knn * 100))\n",
    "\n",
    "# Evaluate model performance on the test data\n",
    "test_accuracy_knn = accuracy_score(y_test, y_pred_knn)\n",
    "print(\"Test Accuracy: {:.2f}%\".format(test_accuracy_knn * 100))"
   ]
  },
  {
   "cell_type": "markdown",
   "id": "09594aff",
   "metadata": {
    "papermill": {
     "duration": 0.007196,
     "end_time": "2024-12-12T11:26:12.367037",
     "exception": false,
     "start_time": "2024-12-12T11:26:12.359841",
     "status": "completed"
    },
    "tags": []
   },
   "source": [
    "# SVM"
   ]
  },
  {
   "cell_type": "code",
   "execution_count": null,
   "id": "6c5eee9f",
   "metadata": {
    "papermill": {
     "duration": 4656.982607,
     "end_time": "2024-12-12T12:43:49.356846",
     "exception": false,
     "start_time": "2024-12-12T11:26:12.374239",
     "status": "completed"
    },
    "tags": []
   },
   "outputs": [],
   "source": [
    "from sklearn.svm import SVC\n",
    "\n",
    "# Initialize SVM model\n",
    "svm_model = SVC(kernel='rbf', C=1, gamma='scale', random_state=42)\n",
    "\n",
    "# Train the model on pre-processed training data (diabetes risk classification)\n",
    "svm_model.fit(X_train_selected_rfecv, y_train_resampled)\n",
    "\n",
    "# Prediction on test data using SVM\n",
    "y_pred_svm = svm_model.predict(X_test_selected_rfecv)\n",
    "\n",
    "# Evaluation of SVM model performance\n",
    "accuracy_svm = accuracy_score(y_test, y_pred_svm)\n",
    "precision_svm = precision_score(y_test, y_pred_svm, pos_label=1)\n",
    "recall_svm = recall_score(y_test, y_pred_svm, pos_label=1)\n",
    "\n",
    "print(\"=== SVM untuk Klasifikasi Risiko Diabetes ===\")\n",
    "print(\"Accuracy: {:.2f}%\".format(accuracy_svm * 100))\n",
    "print(\"Precision: {:.2f}%\".format(precision_svm * 100))\n",
    "print(\"Recall: {:.2f}%\".format(recall_svm * 100))\n",
    "\n",
    "# Confusion Matrix for SVM model\n",
    "cf_matrix_svm = confusion_matrix(y_test, y_pred_svm)\n",
    "\n",
    "# Plot Confusion Matrix for SVM model\n",
    "plt.figure(figsize=(6, 4))\n",
    "sns.heatmap(cf_matrix_svm, annot=True, fmt='d', cmap='Blues')\n",
    "plt.xlabel('Prediksi')\n",
    "plt.ylabel('Aktual')\n",
    "plt.title('Confusion Matrix - SVM (Klasifikasi Risiko Diabetes)')\n",
    "plt.show()"
   ]
  },
  {
   "cell_type": "code",
   "execution_count": null,
   "id": "543634ff",
   "metadata": {
    "papermill": {
     "duration": 2241.313426,
     "end_time": "2024-12-12T13:21:10.677812",
     "exception": false,
     "start_time": "2024-12-12T12:43:49.364386",
     "status": "completed"
    },
    "tags": []
   },
   "outputs": [],
   "source": [
    "# Evaluate model performance on training data\n",
    "y_train_pred_svm = svm_model.predict(X_train_selected_rfecv)\n",
    "train_accuracy_svm = accuracy_score(y_train_resampled, y_train_pred_svm)\n",
    "print(\"Training Accuracy: {:.2f}%\".format(train_accuracy_svm * 100))\n",
    "\n",
    "# Evaluate model performance on test data\n",
    "test_accuracy_svm = accuracy_score(y_test, y_pred)\n",
    "print(\"Test Accuracy: {:.2f}%\".format(test_accuracy_svm * 100))"
   ]
  },
  {
   "cell_type": "code",
   "execution_count": null,
   "id": "f43f0923",
   "metadata": {
    "papermill": {
     "duration": 941.085879,
     "end_time": "2024-12-12T13:36:51.771605",
     "exception": false,
     "start_time": "2024-12-12T13:21:10.685726",
     "status": "completed"
    },
    "tags": []
   },
   "outputs": [],
   "source": [
    "import matplotlib.pyplot as plt\n",
    "import numpy as np\n",
    "from sklearn.metrics import accuracy_score, precision_score, recall_score, f1_score, roc_auc_score\n",
    "\n",
    "# Prediksi dengan model\n",
    "y_pred_knn_model = knn_model.predict(X_test_selected_rfecv)\n",
    "y_pred_rf_model = rf_model.predict(X_test_selected_rfecv)\n",
    "y_pred_svm_model = svm_model.predict(X_test_selected_rfecv)\n",
    "\n",
    "# Evaluasi metrik untuk masing-masing model\n",
    "models = ['KNN', 'Random Forest', 'SVM']\n",
    "accuracy = [\n",
    "    accuracy_score(y_test, y_pred_knn_model),\n",
    "    accuracy_score(y_test, y_pred_rf_model),\n",
    "    accuracy_score(y_test, y_pred_svm_model)\n",
    "]\n",
    "precision = [\n",
    "    precision_score(y_test, y_pred_knn_model),\n",
    "    precision_score(y_test, y_pred_rf_model),\n",
    "    precision_score(y_test, y_pred_svm_model)\n",
    "    \n",
    "]\n",
    "recall = [\n",
    "    recall_score(y_test, y_pred_knn_model),\n",
    "    recall_score(y_test, y_pred_rf_model),\n",
    "    recall_score(y_test, y_pred_svm_model)\n",
    "]\n",
    "f1 = [\n",
    "    f1_score(y_test, y_pred_knn_model),\n",
    "    f1_score(y_test, y_pred_rf_model),\n",
    "    f1_score(y_test, y_pred_svm_model)\n",
    "]\n",
    "roc_auc = [\n",
    "    roc_auc_score(y_test, y_pred_knn_model),\n",
    "    roc_auc_score(y_test, y_pred_rf_model),\n",
    "    roc_auc_score(y_test, y_pred_svm_model)\n",
    "]\n",
    "\n",
    "# Data untuk visualisasi\n",
    "metrics = ['Accuracy', 'Precision', 'Recall', 'F1-Score', 'ROC-AUC']\n",
    "values = [accuracy, precision, recall, f1, roc_auc]\n",
    "\n",
    "# Plot hasil perbandingan dalam bentuk bar plot\n",
    "fig, axes = plt.subplots(1, len(metrics), figsize=(20, 5))\n",
    "\n",
    "for i, metric in enumerate(metrics):\n",
    "    axes[i].bar(models, values[i], color=['blue', 'red','green'])\n",
    "    axes[i].set_title(metric)\n",
    "    axes[i].set_ylim([0, 1])\n",
    "    axes[i].set_ylabel('Score')\n",
    "    for j, val in enumerate(values[i]):\n",
    "        axes[i].text(j, val + 0.02, f'{val:.2f}', ha='center', va='bottom')\n",
    "\n",
    "plt.tight_layout()\n",
    "plt.show()"
   ]
  }
 ],
 "metadata": {
  "kaggle": {
   "accelerator": "none",
   "dataSources": [
    {
     "datasetId": 1703281,
     "sourceId": 2789260,
     "sourceType": "datasetVersion"
    }
   ],
   "dockerImageVersionId": 30804,
   "isGpuEnabled": false,
   "isInternetEnabled": true,
   "language": "python",
   "sourceType": "notebook"
  },
  "kernelspec": {
   "display_name": "Python 3 (ipykernel)",
   "language": "python",
   "name": "python3"
  },
  "language_info": {
   "codemirror_mode": {
    "name": "ipython",
    "version": 3
   },
   "file_extension": ".py",
   "mimetype": "text/x-python",
   "name": "python",
   "nbconvert_exporter": "python",
   "pygments_lexer": "ipython3",
   "version": "3.11.11"
  },
  "papermill": {
   "default_parameters": {},
   "duration": 9832.899648,
   "end_time": "2024-12-12T13:36:54.518074",
   "environment_variables": {},
   "exception": null,
   "input_path": "__notebook__.ipynb",
   "output_path": "__notebook__.ipynb",
   "parameters": {},
   "start_time": "2024-12-12T10:53:01.618426",
   "version": "2.6.0"
  }
 },
 "nbformat": 4,
 "nbformat_minor": 5
}
