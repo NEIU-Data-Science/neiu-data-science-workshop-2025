{
 "cells": [
  {
   "cell_type": "markdown",
   "id": "cea27eb5-839c-4a55-b386-dc1973d10b5e",
   "metadata": {},
   "source": [
    "# Example 3: Clustering Analysis"
   ]
  },
  {
   "cell_type": "markdown",
   "id": "dcc46221-7617-4ea2-81c6-96362d1a0718",
   "metadata": {},
   "source": [
    "### Import Libraries and Install Dependencies"
   ]
  },
  {
   "cell_type": "code",
   "execution_count": 1,
   "id": "f802efaf-d0e2-41bd-9a56-0b41af90e3ba",
   "metadata": {
    "scrolled": true
   },
   "outputs": [],
   "source": [
    "import pandas as pd\n",
    "import numpy as np\n",
    "from sklearn.preprocessing import StandardScaler\n",
    "from sklearn.cluster import KMeans\n",
    "import matplotlib.pyplot as plt\n",
    "import seaborn as sns\n",
    "\n",
    "# Set random seed for reproducibility\n",
    "np.random.seed(42)"
   ]
  },
  {
   "cell_type": "markdown",
   "id": "174ece58-346f-443c-a9c5-ee5e22b72e57",
   "metadata": {},
   "source": [
    "### Load Data"
   ]
  },
  {
   "cell_type": "code",
   "execution_count": 2,
   "id": "7267d238-10ca-49c7-8235-b5d5a8530c11",
   "metadata": {},
   "outputs": [
    {
     "name": "stdout",
     "output_type": "stream",
     "text": [
      "First few rows of the dataset:\n",
      "  feature_ids  Ath_WT_R1_expression  Ath_WT_R2_expression  \\\n",
      "0   AT3G14770              5.019769              4.945506   \n",
      "1   AT4G12460              1.152617              0.409854   \n",
      "2   AT1G68790              1.172865              1.135914   \n",
      "3   AT5G16780              1.133932              0.777333   \n",
      "4   AT3G05130              1.702084              1.425840   \n",
      "\n",
      "   Ath_hy5_R1_expression  Ath_hy5_R2_expression  \n",
      "0               3.050257               3.115209  \n",
      "1               2.701273               2.982812  \n",
      "2               3.096043               3.458751  \n",
      "3               3.527632               4.079876  \n",
      "4               3.871323               3.896601  \n",
      "\n",
      "Dataset information:\n",
      "<class 'pandas.core.frame.DataFrame'>\n",
      "RangeIndex: 612 entries, 0 to 611\n",
      "Data columns (total 5 columns):\n",
      " #   Column                 Non-Null Count  Dtype  \n",
      "---  ------                 --------------  -----  \n",
      " 0   feature_ids            612 non-null    object \n",
      " 1   Ath_WT_R1_expression   612 non-null    float64\n",
      " 2   Ath_WT_R2_expression   612 non-null    float64\n",
      " 3   Ath_hy5_R1_expression  612 non-null    float64\n",
      " 4   Ath_hy5_R2_expression  612 non-null    float64\n",
      "dtypes: float64(4), object(1)\n",
      "memory usage: 24.0+ KB\n",
      "None\n"
     ]
    }
   ],
   "source": [
    "# Read the TSV file\n",
    "df = pd.read_csv('Filtered_Diff_Exp.tsv', sep='\\t')\n",
    "\n",
    "# Let's look at the first few rows and basic information about our dataset\n",
    "print(\"First few rows of the dataset:\")\n",
    "print(df.head())\n",
    "print(\"\\nDataset information:\")\n",
    "print(df.info())"
   ]
  },
  {
   "cell_type": "markdown",
   "id": "ada8c84d-f1d5-4463-84f1-7b93ac7b1c87",
   "metadata": {},
   "source": [
    "### Clustering Analysis"
   ]
  },
  {
   "cell_type": "code",
   "execution_count": 3,
   "id": "e4697fc0-bbca-46cd-b6ea-2b31739356af",
   "metadata": {},
   "outputs": [
    {
     "name": "stdout",
     "output_type": "stream",
     "text": [
      "First few rows with mean expression values:\n",
      "  feature_ids   WT_mean  hy5_mean\n",
      "0   AT3G14770  4.982637  3.082733\n",
      "1   AT4G12460  0.781235  2.842043\n",
      "2   AT1G68790  1.154389  3.277397\n",
      "3   AT5G16780  0.955633  3.803754\n",
      "4   AT3G05130  1.563962  3.883962\n"
     ]
    }
   ],
   "source": [
    "# Calculate mean expression for wild type (WT) and hy5 mutant\n",
    "df['WT_mean'] = df[['Ath_WT_R1_expression', 'Ath_WT_R2_expression']].mean(axis=1)\n",
    "df['hy5_mean'] = df[['Ath_hy5_R1_expression', 'Ath_hy5_R2_expression']].mean(axis=1)\n",
    "\n",
    "# Create a new dataframe with just the mean values\n",
    "expression_data = df[['feature_ids', 'WT_mean', 'hy5_mean']]\n",
    "\n",
    "print(\"First few rows with mean expression values:\")\n",
    "print(expression_data.head())"
   ]
  },
  {
   "cell_type": "markdown",
   "id": "3e8acafa-b815-4c4c-875a-47a5eb9d6b07",
   "metadata": {},
   "source": [
    "Raw Expression Data:\n",
    "\n",
    "-   Each row shows a unique Arabidopsis gene (e.g., AT3G14770)\n",
    "-   WT_mean shows average expression in normal plants\n",
    "-   hy5_mean shows average expression in the mutant\n",
    "-   Looking at AT3G14770: expression decreases in mutant (4.98 → 3.08)\n",
    "-   Looking at AT4G12460: expression increases in mutant (0.78 → 2.84)"
   ]
  },
  {
   "cell_type": "code",
   "execution_count": 4,
   "id": "d3bea159-b834-40e8-a6f4-2e320b39955a",
   "metadata": {},
   "outputs": [
    {
     "name": "stdout",
     "output_type": "stream",
     "text": [
      "Shape of scaled data: (612, 2)\n",
      "\n",
      "First few rows of scaled data:\n",
      "[[ 1.04312184 -0.35210941]\n",
      " [-0.69262915 -0.48487966]\n",
      " [-0.53846578 -0.24472823]\n",
      " [-0.62057917  0.04562283]\n",
      " [-0.36925646  0.08986728]]\n"
     ]
    }
   ],
   "source": [
    "# Extract features for clustering (excluding gene IDs)\n",
    "X = expression_data[['WT_mean', 'hy5_mean']].values\n",
    "\n",
    "# Scale the data\n",
    "scaler = StandardScaler()\n",
    "X_scaled = scaler.fit_transform(X)\n",
    "\n",
    "print(\"Shape of scaled data:\", X_scaled.shape)\n",
    "print(\"\\nFirst few rows of scaled data:\")\n",
    "print(X_scaled[:5])"
   ]
  },
  {
   "cell_type": "markdown",
   "id": "61ed9aa5-d466-4c61-b858-ed6af7528897",
   "metadata": {},
   "source": [
    "Scaled Data:\n",
    "\n",
    "-   Shape (612, 2) means we have 612 genes with 2 measurements each\n",
    "-   Data has been standardized (centered and scaled) for clustering\n",
    "-   Values are now in standard deviations from the mean\n",
    "-   Positive values = above average expression\n",
    "-   Negative values = below average expression\n",
    "-   Example: First gene has above-average WT expression (1.04) but below-average hy5 expression (-0.35)\n",
    "\n",
    "The scaling step is crucial because it puts all measurements on the same scale, making the clustering analysis more reliable and interpretable."
   ]
  },
  {
   "cell_type": "code",
   "execution_count": 5,
   "id": "50089174-e68f-4845-ad76-ed4dd3a6c3de",
   "metadata": {},
   "outputs": [
    {
     "data": {
      "image/png": "[encoded data removed]",
      "text/plain": [
       "<Figure size 1000x600 with 1 Axes>"
      ]
     },
     "metadata": {},
     "output_type": "display_data"
    }
   ],
   "source": [
    "# Calculate inertia for different numbers of clusters\n",
    "inertias = []\n",
    "K = range(1, 11)\n",
    "\n",
    "for k in K:\n",
    "    kmeans = KMeans(n_clusters=k, random_state=42)\n",
    "    kmeans.fit(X_scaled)\n",
    "    inertias.append(kmeans.inertia_)\n",
    "\n",
    "# Plot elbow curve\n",
    "plt.figure(figsize=(10, 6))\n",
    "plt.plot(K, inertias, 'bx-')\n",
    "plt.xlabel('k')\n",
    "plt.ylabel('Inertia')\n",
    "plt.title('Elbow Method For Optimal k')\n",
    "plt.grid(True)\n",
    "plt.show()"
   ]
  },
  {
   "cell_type": "markdown",
   "id": "8c1c60d0-f305-421f-8845-9fbd7d3a78b8",
   "metadata": {},
   "source": [
    "The elbow method plot shows how the inertia (within-cluster sum of squares) changes as we increase the number of clusters (k). Think of inertia as a measure of how spread out the data points are within their assigned clusters - lower inertia means the clusters are more compact and well-defined.\n",
    "In this plot, we can see a sharp bend (the \"elbow\") around k=3 or k=4. This bend is significant because:\n",
    "\n",
    "Before the elbow (k=1 to k=3), adding more clusters dramatically reduces the inertia. This tells us that each additional cluster is providing a substantial improvement in explaining the data's structure.\n",
    "After the elbow (k>4), the line starts to flatten out. Adding more clusters yields diminishing returns - we're not getting as much benefit from splitting the data further.\n",
    "\n",
    "Based on this visualization, I would recommend using k=4 clusters for our analysis. Here's why:\n",
    "\n",
    "It's right at the elbow point where we get good cluster separation\n",
    "The inertia has stabilized enough to suggest we've captured the main patterns\n",
    "With 4 clusters, we'll likely be able to interpret meaningful biological differences between groups of genes"
   ]
  },
  {
   "cell_type": "code",
   "execution_count": 7,
   "id": "5f85e0f6-56aa-4ea2-9e1c-9d2db8168c20",
   "metadata": {},
   "outputs": [
    {
     "ename": "NameError",
     "evalue": "name 'clusters' is not defined",
     "output_type": "error",
     "traceback": [
      "\u001b[0;31m---------------------------------------------------------------------------\u001b[0m",
      "\u001b[0;31mNameError\u001b[0m                                 Traceback (most recent call last)",
      "Cell \u001b[0;32mIn[7], line 5\u001b[0m\n\u001b[1;32m      2\u001b[0m expression_data \u001b[38;5;241m=\u001b[39m expression_data\u001b[38;5;241m.\u001b[39mcopy()\n\u001b[1;32m      4\u001b[0m \u001b[38;5;66;03m# Now add the cluster assignments\u001b[39;00m\n\u001b[0;32m----> 5\u001b[0m expression_data\u001b[38;5;241m.\u001b[39mloc[:, \u001b[38;5;124m'\u001b[39m\u001b[38;5;124mCluster\u001b[39m\u001b[38;5;124m'\u001b[39m] \u001b[38;5;241m=\u001b[39m \u001b[43mclusters\u001b[49m\n\u001b[1;32m      7\u001b[0m \u001b[38;5;28mprint\u001b[39m(\u001b[38;5;124m\"\u001b[39m\u001b[38;5;124mNumber of genes in each cluster:\u001b[39m\u001b[38;5;124m\"\u001b[39m)\n\u001b[1;32m      8\u001b[0m \u001b[38;5;28mprint\u001b[39m(expression_data[\u001b[38;5;124m'\u001b[39m\u001b[38;5;124mCluster\u001b[39m\u001b[38;5;124m'\u001b[39m]\u001b[38;5;241m.\u001b[39mvalue_counts())\n",
      "\u001b[0;31mNameError\u001b[0m: name 'clusters' is not defined"
     ]
    }
   ],
   "source": [
    "# Create a copy of the data first\n",
    "expression_data = expression_data.copy()\n",
    "\n",
    "# Now add the cluster assignments\n",
    "expression_data.loc[:, 'Cluster'] = clusters\n",
    "\n",
    "print(\"Number of genes in each cluster:\")\n",
    "print(expression_data['Cluster'].value_counts())"
   ]
  },
  {
   "cell_type": "code",
   "execution_count": 8,
   "id": "66ed1dd6-afad-437d-8cb9-7ad8663ed288",
   "metadata": {},
   "outputs": [
    {
     "ename": "KeyError",
     "evalue": "'Cluster'",
     "output_type": "error",
     "traceback": [
      "\u001b[0;31m---------------------------------------------------------------------------\u001b[0m",
      "\u001b[0;31mKeyError\u001b[0m                                  Traceback (most recent call last)",
      "File \u001b[0;32m~/mambaforge/envs/neiu-data-science-workshop-2025-dev/lib/python3.11/site-packages/pandas/core/indexes/base.py:3805\u001b[0m, in \u001b[0;36mIndex.get_loc\u001b[0;34m(self, key)\u001b[0m\n\u001b[1;32m   3804\u001b[0m \u001b[38;5;28;01mtry\u001b[39;00m:\n\u001b[0;32m-> 3805\u001b[0m     \u001b[38;5;28;01mreturn\u001b[39;00m \u001b[38;5;28;43mself\u001b[39;49m\u001b[38;5;241;43m.\u001b[39;49m\u001b[43m_engine\u001b[49m\u001b[38;5;241;43m.\u001b[39;49m\u001b[43mget_loc\u001b[49m\u001b[43m(\u001b[49m\u001b[43mcasted_key\u001b[49m\u001b[43m)\u001b[49m\n\u001b[1;32m   3806\u001b[0m \u001b[38;5;28;01mexcept\u001b[39;00m \u001b[38;5;167;01mKeyError\u001b[39;00m \u001b[38;5;28;01mas\u001b[39;00m err:\n",
      "File \u001b[0;32mindex.pyx:167\u001b[0m, in \u001b[0;36mpandas._libs.index.IndexEngine.get_loc\u001b[0;34m()\u001b[0m\n",
      "File \u001b[0;32mindex.pyx:196\u001b[0m, in \u001b[0;36mpandas._libs.index.IndexEngine.get_loc\u001b[0;34m()\u001b[0m\n",
      "File \u001b[0;32mpandas/_libs/hashtable_class_helper.pxi:7081\u001b[0m, in \u001b[0;36mpandas._libs.hashtable.PyObjectHashTable.get_item\u001b[0;34m()\u001b[0m\n",
      "File \u001b[0;32mpandas/_libs/hashtable_class_helper.pxi:7089\u001b[0m, in \u001b[0;36mpandas._libs.hashtable.PyObjectHashTable.get_item\u001b[0;34m()\u001b[0m\n",
      "\u001b[0;31mKeyError\u001b[0m: 'Cluster'",
      "\nThe above exception was the direct cause of the following exception:\n",
      "\u001b[0;31mKeyError\u001b[0m                                  Traceback (most recent call last)",
      "Cell \u001b[0;32mIn[8], line 5\u001b[0m\n\u001b[1;32m      1\u001b[0m \u001b[38;5;66;03m# Create scatter plot\u001b[39;00m\n\u001b[1;32m      2\u001b[0m plt\u001b[38;5;241m.\u001b[39mfigure(figsize\u001b[38;5;241m=\u001b[39m(\u001b[38;5;241m12\u001b[39m, \u001b[38;5;241m8\u001b[39m))\n\u001b[1;32m      3\u001b[0m scatter \u001b[38;5;241m=\u001b[39m plt\u001b[38;5;241m.\u001b[39mscatter(expression_data[\u001b[38;5;124m'\u001b[39m\u001b[38;5;124mWT_mean\u001b[39m\u001b[38;5;124m'\u001b[39m], \n\u001b[1;32m      4\u001b[0m                      expression_data[\u001b[38;5;124m'\u001b[39m\u001b[38;5;124mhy5_mean\u001b[39m\u001b[38;5;124m'\u001b[39m],\n\u001b[0;32m----> 5\u001b[0m                      c\u001b[38;5;241m=\u001b[39m\u001b[43mexpression_data\u001b[49m\u001b[43m[\u001b[49m\u001b[38;5;124;43m'\u001b[39;49m\u001b[38;5;124;43mCluster\u001b[39;49m\u001b[38;5;124;43m'\u001b[39;49m\u001b[43m]\u001b[49m, \n\u001b[1;32m      6\u001b[0m                      cmap\u001b[38;5;241m=\u001b[39m\u001b[38;5;124m'\u001b[39m\u001b[38;5;124mviridis\u001b[39m\u001b[38;5;124m'\u001b[39m)\n\u001b[1;32m      7\u001b[0m plt\u001b[38;5;241m.\u001b[39mxlabel(\u001b[38;5;124m'\u001b[39m\u001b[38;5;124mWild Type Expression (mean)\u001b[39m\u001b[38;5;124m'\u001b[39m)\n\u001b[1;32m      8\u001b[0m plt\u001b[38;5;241m.\u001b[39mylabel(\u001b[38;5;124m'\u001b[39m\u001b[38;5;124mhy5 Mutant Expression (mean)\u001b[39m\u001b[38;5;124m'\u001b[39m)\n",
      "File \u001b[0;32m~/mambaforge/envs/neiu-data-science-workshop-2025-dev/lib/python3.11/site-packages/pandas/core/frame.py:4102\u001b[0m, in \u001b[0;36mDataFrame.__getitem__\u001b[0;34m(self, key)\u001b[0m\n\u001b[1;32m   4100\u001b[0m \u001b[38;5;28;01mif\u001b[39;00m \u001b[38;5;28mself\u001b[39m\u001b[38;5;241m.\u001b[39mcolumns\u001b[38;5;241m.\u001b[39mnlevels \u001b[38;5;241m>\u001b[39m \u001b[38;5;241m1\u001b[39m:\n\u001b[1;32m   4101\u001b[0m     \u001b[38;5;28;01mreturn\u001b[39;00m \u001b[38;5;28mself\u001b[39m\u001b[38;5;241m.\u001b[39m_getitem_multilevel(key)\n\u001b[0;32m-> 4102\u001b[0m indexer \u001b[38;5;241m=\u001b[39m \u001b[38;5;28;43mself\u001b[39;49m\u001b[38;5;241;43m.\u001b[39;49m\u001b[43mcolumns\u001b[49m\u001b[38;5;241;43m.\u001b[39;49m\u001b[43mget_loc\u001b[49m\u001b[43m(\u001b[49m\u001b[43mkey\u001b[49m\u001b[43m)\u001b[49m\n\u001b[1;32m   4103\u001b[0m \u001b[38;5;28;01mif\u001b[39;00m is_integer(indexer):\n\u001b[1;32m   4104\u001b[0m     indexer \u001b[38;5;241m=\u001b[39m [indexer]\n",
      "File \u001b[0;32m~/mambaforge/envs/neiu-data-science-workshop-2025-dev/lib/python3.11/site-packages/pandas/core/indexes/base.py:3812\u001b[0m, in \u001b[0;36mIndex.get_loc\u001b[0;34m(self, key)\u001b[0m\n\u001b[1;32m   3807\u001b[0m     \u001b[38;5;28;01mif\u001b[39;00m \u001b[38;5;28misinstance\u001b[39m(casted_key, \u001b[38;5;28mslice\u001b[39m) \u001b[38;5;129;01mor\u001b[39;00m (\n\u001b[1;32m   3808\u001b[0m         \u001b[38;5;28misinstance\u001b[39m(casted_key, abc\u001b[38;5;241m.\u001b[39mIterable)\n\u001b[1;32m   3809\u001b[0m         \u001b[38;5;129;01mand\u001b[39;00m \u001b[38;5;28many\u001b[39m(\u001b[38;5;28misinstance\u001b[39m(x, \u001b[38;5;28mslice\u001b[39m) \u001b[38;5;28;01mfor\u001b[39;00m x \u001b[38;5;129;01min\u001b[39;00m casted_key)\n\u001b[1;32m   3810\u001b[0m     ):\n\u001b[1;32m   3811\u001b[0m         \u001b[38;5;28;01mraise\u001b[39;00m InvalidIndexError(key)\n\u001b[0;32m-> 3812\u001b[0m     \u001b[38;5;28;01mraise\u001b[39;00m \u001b[38;5;167;01mKeyError\u001b[39;00m(key) \u001b[38;5;28;01mfrom\u001b[39;00m \u001b[38;5;21;01merr\u001b[39;00m\n\u001b[1;32m   3813\u001b[0m \u001b[38;5;28;01mexcept\u001b[39;00m \u001b[38;5;167;01mTypeError\u001b[39;00m:\n\u001b[1;32m   3814\u001b[0m     \u001b[38;5;66;03m# If we have a listlike key, _check_indexing_error will raise\u001b[39;00m\n\u001b[1;32m   3815\u001b[0m     \u001b[38;5;66;03m#  InvalidIndexError. Otherwise we fall through and re-raise\u001b[39;00m\n\u001b[1;32m   3816\u001b[0m     \u001b[38;5;66;03m#  the TypeError.\u001b[39;00m\n\u001b[1;32m   3817\u001b[0m     \u001b[38;5;28mself\u001b[39m\u001b[38;5;241m.\u001b[39m_check_indexing_error(key)\n",
      "\u001b[0;31mKeyError\u001b[0m: 'Cluster'"
     ]
    },
    {
     "data": {
      "text/plain": [
       "<Figure size 1200x800 with 0 Axes>"
      ]
     },
     "metadata": {},
     "output_type": "display_data"
    }
   ],
   "source": [
    "# Create scatter plot\n",
    "plt.figure(figsize=(12, 8))\n",
    "scatter = plt.scatter(expression_data['WT_mean'], \n",
    "                     expression_data['hy5_mean'],\n",
    "                     c=expression_data['Cluster'], \n",
    "                     cmap='viridis')\n",
    "plt.xlabel('Wild Type Expression (mean)')\n",
    "plt.ylabel('hy5 Mutant Expression (mean)')\n",
    "plt.title('Gene Expression Clusters')\n",
    "plt.colorbar(scatter, label='Cluster')\n",
    "\n",
    "# Add a diagonal line for reference\n",
    "min_val = min(expression_data['WT_mean'].min(), expression_data['hy5_mean'].min())\n",
    "max_val = max(expression_data['WT_mean'].max(), expression_data['hy5_mean'].max())\n",
    "plt.plot([min_val, max_val], [min_val, max_val], 'r--', alpha=0.5)\n",
    "\n",
    "plt.grid(True, alpha=0.3)\n",
    "plt.show()"
   ]
  },
  {
   "cell_type": "markdown",
   "id": "110d8315-ffd8-44d0-ab81-38a7320185e9",
   "metadata": {},
   "source": [
    "Looking at this scatter plot of gene expression data, here are the key observations:\n",
    "\n",
    "Cluster 0 (Purple dots, bottom left):\n",
    "\n",
    "-   Concentrated in low Wild Type expression (0-2.5 on x-axis)\n",
    "-   Shows higher expression in hy5 mutant (2-5 on y-axis)\n",
    "-   Forms a dense cluster above the diagonal red line, indicating consistent upregulation\n",
    "\n",
    "Cluster 1 (Blue dots, middle):\n",
    "\n",
    "-   Moderate Wild Type expression (2-5 on x-axis)\n",
    "-   Consistently higher expression in hy5 mutant (4-7 on y-axis)\n",
    "-   Sits distinctly above the diagonal, showing clear upregulation\n",
    "\n",
    "Cluster 2 (Green dots, middle-right):\n",
    "\n",
    "-   Strong Wild Type expression (5-7.5 on x-axis)\n",
    "-   Lower expression in hy5 mutant (0-4 on y-axis)\n",
    "-   Falls below the diagonal line, indicating downregulation\n",
    "\n",
    "Cluster 3 (Yellow dots, top right):\n",
    "\n",
    "-   Highest Wild Type expression (7.5-15 on x-axis)\n",
    "-   Maintains high expression in mutant (5-18 on y-axis)\n",
    "-   Clusters near the diagonal line, suggesting minimal change"
   ]
  },
  {
   "cell_type": "code",
   "execution_count": 9,
   "id": "0581dbef-18a1-4cf8-a8ca-71d987dd5cdb",
   "metadata": {},
   "outputs": [
    {
     "ename": "KeyError",
     "evalue": "'Cluster'",
     "output_type": "error",
     "traceback": [
      "\u001b[0;31m---------------------------------------------------------------------------\u001b[0m",
      "\u001b[0;31mKeyError\u001b[0m                                  Traceback (most recent call last)",
      "Cell \u001b[0;32mIn[9], line 57\u001b[0m\n\u001b[1;32m     54\u001b[0m     \u001b[38;5;28;01mreturn\u001b[39;00m cluster_stats, ratios, patterns\n\u001b[1;32m     56\u001b[0m \u001b[38;5;66;03m# Calculate all statistics\u001b[39;00m\n\u001b[0;32m---> 57\u001b[0m cluster_stats, cluster_ratios, regulation_patterns \u001b[38;5;241m=\u001b[39m \u001b[43mcalculate_cluster_patterns\u001b[49m\u001b[43m(\u001b[49m\u001b[43mexpression_data\u001b[49m\u001b[43m)\u001b[49m\n\u001b[1;32m     59\u001b[0m \u001b[38;5;66;03m# Print results with informative headers\u001b[39;00m\n\u001b[1;32m     60\u001b[0m \u001b[38;5;28mprint\u001b[39m(\u001b[38;5;124m\"\u001b[39m\u001b[38;5;124mCluster Statistics:\u001b[39m\u001b[38;5;124m\"\u001b[39m)\n",
      "Cell \u001b[0;32mIn[9], line 15\u001b[0m, in \u001b[0;36mcalculate_cluster_patterns\u001b[0;34m(df, fold_change_threshold)\u001b[0m\n\u001b[1;32m      2\u001b[0m \u001b[38;5;250m\u001b[39m\u001b[38;5;124;03m\"\"\"\u001b[39;00m\n\u001b[1;32m      3\u001b[0m \u001b[38;5;124;03mAnalyze gene expression patterns for each cluster, providing comprehensive statistics\u001b[39;00m\n\u001b[1;32m      4\u001b[0m \u001b[38;5;124;03mabout how genes respond to the absence of HY5.\u001b[39;00m\n\u001b[0;32m   (...)\u001b[0m\n\u001b[1;32m     11\u001b[0m \u001b[38;5;124;03m    Three DataFrames containing basic statistics, expression ratios, and regulation patterns\u001b[39;00m\n\u001b[1;32m     12\u001b[0m \u001b[38;5;124;03m\"\"\"\u001b[39;00m\n\u001b[1;32m     13\u001b[0m \u001b[38;5;66;03m# Calculate basic statistics for each cluster\u001b[39;00m\n\u001b[1;32m     14\u001b[0m \u001b[38;5;66;03m# We separate WT and hy5 calculations for clarity\u001b[39;00m\n\u001b[0;32m---> 15\u001b[0m wt_stats \u001b[38;5;241m=\u001b[39m \u001b[43mdf\u001b[49m\u001b[38;5;241;43m.\u001b[39;49m\u001b[43mgroupby\u001b[49m\u001b[43m(\u001b[49m\u001b[38;5;124;43m'\u001b[39;49m\u001b[38;5;124;43mCluster\u001b[39;49m\u001b[38;5;124;43m'\u001b[39;49m\u001b[43m)\u001b[49m[\u001b[38;5;124m'\u001b[39m\u001b[38;5;124mWT_mean\u001b[39m\u001b[38;5;124m'\u001b[39m]\u001b[38;5;241m.\u001b[39magg([\u001b[38;5;124m'\u001b[39m\u001b[38;5;124mmean\u001b[39m\u001b[38;5;124m'\u001b[39m, \u001b[38;5;124m'\u001b[39m\u001b[38;5;124mstd\u001b[39m\u001b[38;5;124m'\u001b[39m, \u001b[38;5;124m'\u001b[39m\u001b[38;5;124mcount\u001b[39m\u001b[38;5;124m'\u001b[39m])\u001b[38;5;241m.\u001b[39mround(\u001b[38;5;241m2\u001b[39m)\n\u001b[1;32m     16\u001b[0m hy5_stats \u001b[38;5;241m=\u001b[39m df\u001b[38;5;241m.\u001b[39mgroupby(\u001b[38;5;124m'\u001b[39m\u001b[38;5;124mCluster\u001b[39m\u001b[38;5;124m'\u001b[39m)[\u001b[38;5;124m'\u001b[39m\u001b[38;5;124mhy5_mean\u001b[39m\u001b[38;5;124m'\u001b[39m]\u001b[38;5;241m.\u001b[39magg([\u001b[38;5;124m'\u001b[39m\u001b[38;5;124mmean\u001b[39m\u001b[38;5;124m'\u001b[39m, \u001b[38;5;124m'\u001b[39m\u001b[38;5;124mstd\u001b[39m\u001b[38;5;124m'\u001b[39m])\u001b[38;5;241m.\u001b[39mround(\u001b[38;5;241m2\u001b[39m)\n\u001b[1;32m     18\u001b[0m \u001b[38;5;66;03m# Combine statistics into a multi-level column DataFrame\u001b[39;00m\n",
      "File \u001b[0;32m~/mambaforge/envs/neiu-data-science-workshop-2025-dev/lib/python3.11/site-packages/pandas/core/frame.py:9183\u001b[0m, in \u001b[0;36mDataFrame.groupby\u001b[0;34m(self, by, axis, level, as_index, sort, group_keys, observed, dropna)\u001b[0m\n\u001b[1;32m   9180\u001b[0m \u001b[38;5;28;01mif\u001b[39;00m level \u001b[38;5;129;01mis\u001b[39;00m \u001b[38;5;28;01mNone\u001b[39;00m \u001b[38;5;129;01mand\u001b[39;00m by \u001b[38;5;129;01mis\u001b[39;00m \u001b[38;5;28;01mNone\u001b[39;00m:\n\u001b[1;32m   9181\u001b[0m     \u001b[38;5;28;01mraise\u001b[39;00m \u001b[38;5;167;01mTypeError\u001b[39;00m(\u001b[38;5;124m\"\u001b[39m\u001b[38;5;124mYou have to supply one of \u001b[39m\u001b[38;5;124m'\u001b[39m\u001b[38;5;124mby\u001b[39m\u001b[38;5;124m'\u001b[39m\u001b[38;5;124m and \u001b[39m\u001b[38;5;124m'\u001b[39m\u001b[38;5;124mlevel\u001b[39m\u001b[38;5;124m'\u001b[39m\u001b[38;5;124m\"\u001b[39m)\n\u001b[0;32m-> 9183\u001b[0m \u001b[38;5;28;01mreturn\u001b[39;00m \u001b[43mDataFrameGroupBy\u001b[49m\u001b[43m(\u001b[49m\n\u001b[1;32m   9184\u001b[0m \u001b[43m    \u001b[49m\u001b[43mobj\u001b[49m\u001b[38;5;241;43m=\u001b[39;49m\u001b[38;5;28;43mself\u001b[39;49m\u001b[43m,\u001b[49m\n\u001b[1;32m   9185\u001b[0m \u001b[43m    \u001b[49m\u001b[43mkeys\u001b[49m\u001b[38;5;241;43m=\u001b[39;49m\u001b[43mby\u001b[49m\u001b[43m,\u001b[49m\n\u001b[1;32m   9186\u001b[0m \u001b[43m    \u001b[49m\u001b[43maxis\u001b[49m\u001b[38;5;241;43m=\u001b[39;49m\u001b[43maxis\u001b[49m\u001b[43m,\u001b[49m\n\u001b[1;32m   9187\u001b[0m \u001b[43m    \u001b[49m\u001b[43mlevel\u001b[49m\u001b[38;5;241;43m=\u001b[39;49m\u001b[43mlevel\u001b[49m\u001b[43m,\u001b[49m\n\u001b[1;32m   9188\u001b[0m \u001b[43m    \u001b[49m\u001b[43mas_index\u001b[49m\u001b[38;5;241;43m=\u001b[39;49m\u001b[43mas_index\u001b[49m\u001b[43m,\u001b[49m\n\u001b[1;32m   9189\u001b[0m \u001b[43m    \u001b[49m\u001b[43msort\u001b[49m\u001b[38;5;241;43m=\u001b[39;49m\u001b[43msort\u001b[49m\u001b[43m,\u001b[49m\n\u001b[1;32m   9190\u001b[0m \u001b[43m    \u001b[49m\u001b[43mgroup_keys\u001b[49m\u001b[38;5;241;43m=\u001b[39;49m\u001b[43mgroup_keys\u001b[49m\u001b[43m,\u001b[49m\n\u001b[1;32m   9191\u001b[0m \u001b[43m    \u001b[49m\u001b[43mobserved\u001b[49m\u001b[38;5;241;43m=\u001b[39;49m\u001b[43mobserved\u001b[49m\u001b[43m,\u001b[49m\n\u001b[1;32m   9192\u001b[0m \u001b[43m    \u001b[49m\u001b[43mdropna\u001b[49m\u001b[38;5;241;43m=\u001b[39;49m\u001b[43mdropna\u001b[49m\u001b[43m,\u001b[49m\n\u001b[1;32m   9193\u001b[0m \u001b[43m\u001b[49m\u001b[43m)\u001b[49m\n",
      "File \u001b[0;32m~/mambaforge/envs/neiu-data-science-workshop-2025-dev/lib/python3.11/site-packages/pandas/core/groupby/groupby.py:1329\u001b[0m, in \u001b[0;36mGroupBy.__init__\u001b[0;34m(self, obj, keys, axis, level, grouper, exclusions, selection, as_index, sort, group_keys, observed, dropna)\u001b[0m\n\u001b[1;32m   1326\u001b[0m \u001b[38;5;28mself\u001b[39m\u001b[38;5;241m.\u001b[39mdropna \u001b[38;5;241m=\u001b[39m dropna\n\u001b[1;32m   1328\u001b[0m \u001b[38;5;28;01mif\u001b[39;00m grouper \u001b[38;5;129;01mis\u001b[39;00m \u001b[38;5;28;01mNone\u001b[39;00m:\n\u001b[0;32m-> 1329\u001b[0m     grouper, exclusions, obj \u001b[38;5;241m=\u001b[39m \u001b[43mget_grouper\u001b[49m\u001b[43m(\u001b[49m\n\u001b[1;32m   1330\u001b[0m \u001b[43m        \u001b[49m\u001b[43mobj\u001b[49m\u001b[43m,\u001b[49m\n\u001b[1;32m   1331\u001b[0m \u001b[43m        \u001b[49m\u001b[43mkeys\u001b[49m\u001b[43m,\u001b[49m\n\u001b[1;32m   1332\u001b[0m \u001b[43m        \u001b[49m\u001b[43maxis\u001b[49m\u001b[38;5;241;43m=\u001b[39;49m\u001b[43maxis\u001b[49m\u001b[43m,\u001b[49m\n\u001b[1;32m   1333\u001b[0m \u001b[43m        \u001b[49m\u001b[43mlevel\u001b[49m\u001b[38;5;241;43m=\u001b[39;49m\u001b[43mlevel\u001b[49m\u001b[43m,\u001b[49m\n\u001b[1;32m   1334\u001b[0m \u001b[43m        \u001b[49m\u001b[43msort\u001b[49m\u001b[38;5;241;43m=\u001b[39;49m\u001b[43msort\u001b[49m\u001b[43m,\u001b[49m\n\u001b[1;32m   1335\u001b[0m \u001b[43m        \u001b[49m\u001b[43mobserved\u001b[49m\u001b[38;5;241;43m=\u001b[39;49m\u001b[38;5;28;43;01mFalse\u001b[39;49;00m\u001b[43m \u001b[49m\u001b[38;5;28;43;01mif\u001b[39;49;00m\u001b[43m \u001b[49m\u001b[43mobserved\u001b[49m\u001b[43m \u001b[49m\u001b[38;5;129;43;01mis\u001b[39;49;00m\u001b[43m \u001b[49m\u001b[43mlib\u001b[49m\u001b[38;5;241;43m.\u001b[39;49m\u001b[43mno_default\u001b[49m\u001b[43m \u001b[49m\u001b[38;5;28;43;01melse\u001b[39;49;00m\u001b[43m \u001b[49m\u001b[43mobserved\u001b[49m\u001b[43m,\u001b[49m\n\u001b[1;32m   1336\u001b[0m \u001b[43m        \u001b[49m\u001b[43mdropna\u001b[49m\u001b[38;5;241;43m=\u001b[39;49m\u001b[38;5;28;43mself\u001b[39;49m\u001b[38;5;241;43m.\u001b[39;49m\u001b[43mdropna\u001b[49m\u001b[43m,\u001b[49m\n\u001b[1;32m   1337\u001b[0m \u001b[43m    \u001b[49m\u001b[43m)\u001b[49m\n\u001b[1;32m   1339\u001b[0m \u001b[38;5;28;01mif\u001b[39;00m observed \u001b[38;5;129;01mis\u001b[39;00m lib\u001b[38;5;241m.\u001b[39mno_default:\n\u001b[1;32m   1340\u001b[0m     \u001b[38;5;28;01mif\u001b[39;00m \u001b[38;5;28many\u001b[39m(ping\u001b[38;5;241m.\u001b[39m_passed_categorical \u001b[38;5;28;01mfor\u001b[39;00m ping \u001b[38;5;129;01min\u001b[39;00m grouper\u001b[38;5;241m.\u001b[39mgroupings):\n",
      "File \u001b[0;32m~/mambaforge/envs/neiu-data-science-workshop-2025-dev/lib/python3.11/site-packages/pandas/core/groupby/grouper.py:1043\u001b[0m, in \u001b[0;36mget_grouper\u001b[0;34m(obj, key, axis, level, sort, observed, validate, dropna)\u001b[0m\n\u001b[1;32m   1041\u001b[0m         in_axis, level, gpr \u001b[38;5;241m=\u001b[39m \u001b[38;5;28;01mFalse\u001b[39;00m, gpr, \u001b[38;5;28;01mNone\u001b[39;00m\n\u001b[1;32m   1042\u001b[0m     \u001b[38;5;28;01melse\u001b[39;00m:\n\u001b[0;32m-> 1043\u001b[0m         \u001b[38;5;28;01mraise\u001b[39;00m \u001b[38;5;167;01mKeyError\u001b[39;00m(gpr)\n\u001b[1;32m   1044\u001b[0m \u001b[38;5;28;01melif\u001b[39;00m \u001b[38;5;28misinstance\u001b[39m(gpr, Grouper) \u001b[38;5;129;01mand\u001b[39;00m gpr\u001b[38;5;241m.\u001b[39mkey \u001b[38;5;129;01mis\u001b[39;00m \u001b[38;5;129;01mnot\u001b[39;00m \u001b[38;5;28;01mNone\u001b[39;00m:\n\u001b[1;32m   1045\u001b[0m     \u001b[38;5;66;03m# Add key to exclusions\u001b[39;00m\n\u001b[1;32m   1046\u001b[0m     exclusions\u001b[38;5;241m.\u001b[39madd(gpr\u001b[38;5;241m.\u001b[39mkey)\n",
      "\u001b[0;31mKeyError\u001b[0m: 'Cluster'"
     ]
    }
   ],
   "source": [
    "def calculate_cluster_patterns(df, fold_change_threshold=1.5):\n",
    "    \"\"\"\n",
    "    Analyze gene expression patterns for each cluster, providing comprehensive statistics\n",
    "    about how genes respond to the absence of HY5.\n",
    "    \n",
    "    Args:\n",
    "        df: DataFrame containing gene expression data with WT_mean and hy5_mean columns\n",
    "        fold_change_threshold: Minimum fold change to consider a gene significantly regulated\n",
    "        \n",
    "    Returns:\n",
    "        Three DataFrames containing basic statistics, expression ratios, and regulation patterns\n",
    "    \"\"\"\n",
    "    # Calculate basic statistics for each cluster\n",
    "    # We separate WT and hy5 calculations for clarity\n",
    "    wt_stats = df.groupby('Cluster')['WT_mean'].agg(['mean', 'std', 'count']).round(2)\n",
    "    hy5_stats = df.groupby('Cluster')['hy5_mean'].agg(['mean', 'std']).round(2)\n",
    "    \n",
    "    # Combine statistics into a multi-level column DataFrame\n",
    "    cluster_stats = pd.concat({\n",
    "        'WT_mean': wt_stats,\n",
    "        'hy5_mean': hy5_stats\n",
    "    }, axis=1)\n",
    "    \n",
    "    # Calculate expression ratios with careful handling of low expression values\n",
    "    def calculate_stable_ratio(group):\n",
    "        \"\"\"\n",
    "        Calculate expression ratios while avoiding division by very small numbers.\n",
    "        Only considers genes with meaningful WT expression (>0.1) to prevent inflated ratios.\n",
    "        \"\"\"\n",
    "        meaningful_expression = group['WT_mean'] > 0.1\n",
    "        if meaningful_expression.any():\n",
    "            ratios = group[meaningful_expression]['hy5_mean'] / group[meaningful_expression]['WT_mean']\n",
    "            return ratios.mean()\n",
    "        return 0  # Return 0 if no genes meet the criteria\n",
    "    \n",
    "    # Calculate ratios using our stable method\n",
    "    ratios = df.groupby('Cluster').apply(\n",
    "        calculate_stable_ratio,\n",
    "        include_groups=False\n",
    "    ).round(2)\n",
    "    \n",
    "    # Calculate the percentage of genes showing significant regulation\n",
    "    patterns = pd.DataFrame({\n",
    "        'Upregulated in hy5': df.groupby('Cluster').apply(\n",
    "            lambda x: (x['hy5_mean'] > x['WT_mean'] * fold_change_threshold).mean() * 100,\n",
    "            include_groups=False\n",
    "        ),\n",
    "        'Downregulated in hy5': df.groupby('Cluster').apply(\n",
    "            lambda x: (x['hy5_mean'] < x['WT_mean'] / fold_change_threshold).mean() * 100,\n",
    "            include_groups=False\n",
    "        )\n",
    "    }).round(1)\n",
    "    \n",
    "    return cluster_stats, ratios, patterns\n",
    "\n",
    "# Calculate all statistics\n",
    "cluster_stats, cluster_ratios, regulation_patterns = calculate_cluster_patterns(expression_data)\n",
    "\n",
    "# Print results with informative headers\n",
    "print(\"Cluster Statistics:\")\n",
    "print(\"This shows the mean expression, standard deviation, and number of genes in each cluster\")\n",
    "print(cluster_stats)\n",
    "print(\"\\nAverage hy5/WT expression ratio for each cluster:\")\n",
    "print(\"(Ratios calculated only for genes with meaningful WT expression)\")\n",
    "print(cluster_ratios)\n",
    "print(\"\\nRegulation patterns (percentage of genes):\")\n",
    "print(\"(Shows what fraction of genes are significantly up- or down-regulated)\")\n",
    "print(regulation_patterns)"
   ]
  },
  {
   "cell_type": "markdown",
   "id": "22eb0122-7d42-4dbd-bbee-dc2e19370ad9",
   "metadata": {},
   "source": [
    "Here's a concise summary of the HY5 gene expression clusters in bullet points:\n",
    "\n",
    "Cluster 0 (295 genes) - Strong Repression:\n",
    "\n",
    "-   Very low expression with HY5 (0.77), jumps to 3.18 without HY5\n",
    "-   100% of genes show upregulation in mutant\n",
    "-   HY5 acts as a strong repressor for these genes\n",
    "\n",
    "Cluster 1 (177 genes) - Moderate Repression:\n",
    "\n",
    "-   Moderate expression with HY5 (2.46), increases to 5.03 without HY5\n",
    "-   98.3% show upregulation in mutant\n",
    "-   Maintains some baseline expression even with HY5 present\n",
    "\n",
    "Cluster 2 (105 genes) - HY5-Dependent Activation:\n",
    "\n",
    "-   Strong expression with HY5 (4.96), drops to 1.77 without HY5\n",
    "-   97.1% show downregulation in mutant\n",
    "-   HY5 acts as an activator for these genes\n",
    "\n",
    "Cluster 3 (35 genes) - HY5-Independent:\n",
    "\n",
    "-   High expression in both conditions (9.15 → 7.49)\n",
    "-   Minimal regulation by HY5 (only 5.7% up, 8.6% down)\n",
    "-   Likely controlled by other regulatory factors\n",
    "\n",
    "Key takeaway: HY5 can act as either a repressor or activator depending on the target genes, with some genes being largely independent of its control."
   ]
  },
  {
   "cell_type": "code",
   "execution_count": null,
   "id": "3cc55b23-0e25-4ec7-a053-66266f4a1284",
   "metadata": {},
   "outputs": [],
   "source": []
  }
 ],
 "metadata": {
  "kernelspec": {
   "display_name": "Python 3 (ipykernel)",
   "language": "python",
   "name": "python3"
  },
  "language_info": {
   "codemirror_mode": {
    "name": "ipython",
    "version": 3
   },
   "file_extension": ".py",
   "mimetype": "text/x-python",
   "name": "python",
   "nbconvert_exporter": "python",
   "pygments_lexer": "ipython3",
   "version": "3.11.11"
  }
 },
 "nbformat": 4,
 "nbformat_minor": 5
}
